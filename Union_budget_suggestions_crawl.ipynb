{
  "nbformat": 4,
  "nbformat_minor": 0,
  "metadata": {
    "colab": {
      "name": "Union budget suggestions crawl.ipynb",
      "provenance": [],
      "collapsed_sections": [],
      "mount_file_id": "10DXxsbDiBvju0WF1ntsBrYbelyFmdnwh",
      "authorship_tag": "ABX9TyPM5G0JE3H0DLR40+ILDjsF",
      "include_colab_link": true
    },
    "kernelspec": {
      "name": "python3",
      "display_name": "Python 3"
    },
    "language_info": {
      "name": "python"
    }
  },
  "cells": [
    {
      "cell_type": "markdown",
      "metadata": {
        "id": "view-in-github",
        "colab_type": "text"
      },
      "source": [
        "<a href=\"https://colab.research.google.com/github/JeetRoy97/Democracy-2.0/blob/main/Union_budget_suggestions_crawl.ipynb\" target=\"_parent\"><img src=\"https://colab.research.google.com/assets/colab-badge.svg\" alt=\"Open In Colab\"/></a>"
      ]
    },
    {
      "cell_type": "code",
      "execution_count": null,
      "metadata": {
        "id": "CHt0eFZS95bN"
      },
      "outputs": [],
      "source": [
        "# !pip install selenium"
      ]
    },
    {
      "cell_type": "code",
      "source": [
        "# from selenium import webdriver\n",
        "# from selenium.webdriver.common.keys import Keys\n",
        "# import pandas as pd"
      ],
      "metadata": {
        "id": "mo2wn6tB9_l0"
      },
      "execution_count": null,
      "outputs": []
    },
    {
      "cell_type": "code",
      "source": [
        "# install chromium, its driver, and selenium\n",
        "!apt-get update\n",
        "!apt install chromium-chromedriver\n",
        "!cp /usr/lib/chromium-browser/chromedriver /usr/bin\n",
        "!pip install selenium\n",
        "# set options to be headless, ..\n",
        "from selenium import webdriver\n",
        "options = webdriver.ChromeOptions()\n",
        "options.add_argument('--headless')\n",
        "options.add_argument('--no-sandbox')\n",
        "options.add_argument('--disable-dev-shm-usage')\n",
        "# open it, go to a website, and get results\n",
        "driver = webdriver.Chrome('chromedriver',options=options)\n",
        "import pandas as pd"
      ],
      "metadata": {
        "colab": {
          "base_uri": "https://localhost:8080/"
        },
        "id": "9veVpSrj_hee",
        "outputId": "85d543a4-9f61-4964-a768-6aeba201dc79"
      },
      "execution_count": null,
      "outputs": [
        {
          "output_type": "stream",
          "name": "stdout",
          "text": [
            "Get:1 http://security.ubuntu.com/ubuntu bionic-security InRelease [88.7 kB]\n",
            "Get:2 https://cloud.r-project.org/bin/linux/ubuntu bionic-cran40/ InRelease [3,626 B]\n",
            "Ign:3 https://developer.download.nvidia.com/compute/cuda/repos/ubuntu1804/x86_64  InRelease\n",
            "Hit:4 http://archive.ubuntu.com/ubuntu bionic InRelease\n",
            "Get:5 http://ppa.launchpad.net/c2d4u.team/c2d4u4.0+/ubuntu bionic InRelease [15.9 kB]\n",
            "Ign:6 https://developer.download.nvidia.com/compute/machine-learning/repos/ubuntu1804/x86_64  InRelease\n",
            "Get:7 https://developer.download.nvidia.com/compute/cuda/repos/ubuntu1804/x86_64  Release [696 B]\n",
            "Hit:8 https://developer.download.nvidia.com/compute/machine-learning/repos/ubuntu1804/x86_64  Release\n",
            "Get:9 http://archive.ubuntu.com/ubuntu bionic-updates InRelease [88.7 kB]\n",
            "Get:10 https://developer.download.nvidia.com/compute/cuda/repos/ubuntu1804/x86_64  Release.gpg [836 B]\n",
            "Hit:11 http://ppa.launchpad.net/cran/libgit2/ubuntu bionic InRelease\n",
            "Get:12 http://security.ubuntu.com/ubuntu bionic-security/main amd64 Packages [2,596 kB]\n",
            "Get:13 http://archive.ubuntu.com/ubuntu bionic-backports InRelease [74.6 kB]\n",
            "Hit:14 http://ppa.launchpad.net/deadsnakes/ppa/ubuntu bionic InRelease\n",
            "Get:15 https://cloud.r-project.org/bin/linux/ubuntu bionic-cran40/ Packages [76.8 kB]\n",
            "Get:16 http://ppa.launchpad.net/graphics-drivers/ppa/ubuntu bionic InRelease [21.3 kB]\n",
            "Get:17 http://security.ubuntu.com/ubuntu bionic-security/restricted amd64 Packages [806 kB]\n",
            "Get:18 http://security.ubuntu.com/ubuntu bionic-security/universe amd64 Packages [1,474 kB]\n",
            "Get:20 http://ppa.launchpad.net/c2d4u.team/c2d4u4.0+/ubuntu bionic/main Sources [1,827 kB]\n",
            "Get:21 https://developer.download.nvidia.com/compute/cuda/repos/ubuntu1804/x86_64  Packages [930 kB]\n",
            "Get:22 http://archive.ubuntu.com/ubuntu bionic-updates/universe amd64 Packages [2,252 kB]\n",
            "Get:23 http://ppa.launchpad.net/c2d4u.team/c2d4u4.0+/ubuntu bionic/main amd64 Packages [936 kB]\n",
            "Get:24 http://archive.ubuntu.com/ubuntu bionic-updates/main amd64 Packages [3,035 kB]\n",
            "Get:25 http://ppa.launchpad.net/graphics-drivers/ppa/ubuntu bionic/main amd64 Packages [42.8 kB]\n",
            "Get:26 http://archive.ubuntu.com/ubuntu bionic-updates/restricted amd64 Packages [840 kB]\n",
            "Fetched 15.1 MB in 4s (3,598 kB/s)\n",
            "Reading package lists... Done\n",
            "Reading package lists... Done\n",
            "Building dependency tree       \n",
            "Reading state information... Done\n",
            "The following package was automatically installed and is no longer required:\n",
            "  libnvidia-common-470\n",
            "Use 'apt autoremove' to remove it.\n",
            "The following additional packages will be installed:\n",
            "  chromium-browser chromium-browser-l10n chromium-codecs-ffmpeg-extra\n",
            "Suggested packages:\n",
            "  webaccounts-chromium-extension unity-chromium-extension\n",
            "The following NEW packages will be installed:\n",
            "  chromium-browser chromium-browser-l10n chromium-chromedriver\n",
            "  chromium-codecs-ffmpeg-extra\n",
            "0 upgraded, 4 newly installed, 0 to remove and 69 not upgraded.\n",
            "Need to get 95.3 MB of archives.\n",
            "After this operation, 327 MB of additional disk space will be used.\n",
            "Get:1 http://archive.ubuntu.com/ubuntu bionic-updates/universe amd64 chromium-codecs-ffmpeg-extra amd64 97.0.4692.71-0ubuntu0.18.04.1 [1,142 kB]\n",
            "Get:2 http://archive.ubuntu.com/ubuntu bionic-updates/universe amd64 chromium-browser amd64 97.0.4692.71-0ubuntu0.18.04.1 [84.7 MB]\n",
            "Get:3 http://archive.ubuntu.com/ubuntu bionic-updates/universe amd64 chromium-browser-l10n all 97.0.4692.71-0ubuntu0.18.04.1 [4,370 kB]\n",
            "Get:4 http://archive.ubuntu.com/ubuntu bionic-updates/universe amd64 chromium-chromedriver amd64 97.0.4692.71-0ubuntu0.18.04.1 [5,055 kB]\n",
            "Fetched 95.3 MB in 4s (24.2 MB/s)\n",
            "Selecting previously unselected package chromium-codecs-ffmpeg-extra.\n",
            "(Reading database ... 155320 files and directories currently installed.)\n",
            "Preparing to unpack .../chromium-codecs-ffmpeg-extra_97.0.4692.71-0ubuntu0.18.04.1_amd64.deb ...\n",
            "Unpacking chromium-codecs-ffmpeg-extra (97.0.4692.71-0ubuntu0.18.04.1) ...\n",
            "Selecting previously unselected package chromium-browser.\n",
            "Preparing to unpack .../chromium-browser_97.0.4692.71-0ubuntu0.18.04.1_amd64.deb ...\n",
            "Unpacking chromium-browser (97.0.4692.71-0ubuntu0.18.04.1) ...\n",
            "Selecting previously unselected package chromium-browser-l10n.\n",
            "Preparing to unpack .../chromium-browser-l10n_97.0.4692.71-0ubuntu0.18.04.1_all.deb ...\n",
            "Unpacking chromium-browser-l10n (97.0.4692.71-0ubuntu0.18.04.1) ...\n",
            "Selecting previously unselected package chromium-chromedriver.\n",
            "Preparing to unpack .../chromium-chromedriver_97.0.4692.71-0ubuntu0.18.04.1_amd64.deb ...\n",
            "Unpacking chromium-chromedriver (97.0.4692.71-0ubuntu0.18.04.1) ...\n",
            "Setting up chromium-codecs-ffmpeg-extra (97.0.4692.71-0ubuntu0.18.04.1) ...\n",
            "Setting up chromium-browser (97.0.4692.71-0ubuntu0.18.04.1) ...\n",
            "update-alternatives: using /usr/bin/chromium-browser to provide /usr/bin/x-www-browser (x-www-browser) in auto mode\n",
            "update-alternatives: using /usr/bin/chromium-browser to provide /usr/bin/gnome-www-browser (gnome-www-browser) in auto mode\n",
            "Setting up chromium-chromedriver (97.0.4692.71-0ubuntu0.18.04.1) ...\n",
            "Setting up chromium-browser-l10n (97.0.4692.71-0ubuntu0.18.04.1) ...\n",
            "Processing triggers for man-db (2.8.3-2ubuntu0.1) ...\n",
            "Processing triggers for hicolor-icon-theme (0.17-2) ...\n",
            "Processing triggers for mime-support (3.60ubuntu1) ...\n",
            "Processing triggers for libc-bin (2.27-3ubuntu1.3) ...\n",
            "/sbin/ldconfig.real: /usr/local/lib/python3.7/dist-packages/ideep4py/lib/libmkldnn.so.0 is not a symbolic link\n",
            "\n",
            "cp: '/usr/lib/chromium-browser/chromedriver' and '/usr/bin/chromedriver' are the same file\n",
            "Collecting selenium\n",
            "  Downloading selenium-4.1.2-py3-none-any.whl (963 kB)\n",
            "\u001b[K     |████████████████████████████████| 963 kB 5.0 MB/s \n",
            "\u001b[?25hCollecting trio-websocket~=0.9\n",
            "  Downloading trio_websocket-0.9.2-py3-none-any.whl (16 kB)\n",
            "Collecting urllib3[secure,socks]~=1.26\n",
            "  Downloading urllib3-1.26.8-py2.py3-none-any.whl (138 kB)\n",
            "\u001b[K     |████████████████████████████████| 138 kB 58.2 MB/s \n",
            "\u001b[?25hCollecting trio~=0.17\n",
            "  Downloading trio-0.20.0-py3-none-any.whl (359 kB)\n",
            "\u001b[K     |████████████████████████████████| 359 kB 42.7 MB/s \n",
            "\u001b[?25hRequirement already satisfied: idna in /usr/local/lib/python3.7/dist-packages (from trio~=0.17->selenium) (2.10)\n",
            "Requirement already satisfied: sortedcontainers in /usr/local/lib/python3.7/dist-packages (from trio~=0.17->selenium) (2.4.0)\n",
            "Requirement already satisfied: attrs>=19.2.0 in /usr/local/lib/python3.7/dist-packages (from trio~=0.17->selenium) (21.4.0)\n",
            "Collecting outcome\n",
            "  Downloading outcome-1.1.0-py2.py3-none-any.whl (9.7 kB)\n",
            "Collecting async-generator>=1.9\n",
            "  Downloading async_generator-1.10-py3-none-any.whl (18 kB)\n",
            "Collecting sniffio\n",
            "  Downloading sniffio-1.2.0-py3-none-any.whl (10 kB)\n",
            "Collecting wsproto>=0.14\n",
            "  Downloading wsproto-1.1.0-py3-none-any.whl (24 kB)\n",
            "Requirement already satisfied: certifi in /usr/local/lib/python3.7/dist-packages (from urllib3[secure,socks]~=1.26->selenium) (2021.10.8)\n",
            "Collecting cryptography>=1.3.4\n",
            "  Downloading cryptography-36.0.1-cp36-abi3-manylinux_2_24_x86_64.whl (3.6 MB)\n",
            "\u001b[K     |████████████████████████████████| 3.6 MB 46.0 MB/s \n",
            "\u001b[?25hCollecting pyOpenSSL>=0.14\n",
            "  Downloading pyOpenSSL-22.0.0-py2.py3-none-any.whl (55 kB)\n",
            "\u001b[K     |████████████████████████████████| 55 kB 3.8 MB/s \n",
            "\u001b[?25hRequirement already satisfied: PySocks!=1.5.7,<2.0,>=1.5.6 in /usr/local/lib/python3.7/dist-packages (from urllib3[secure,socks]~=1.26->selenium) (1.7.1)\n",
            "Requirement already satisfied: cffi>=1.12 in /usr/local/lib/python3.7/dist-packages (from cryptography>=1.3.4->urllib3[secure,socks]~=1.26->selenium) (1.15.0)\n",
            "Requirement already satisfied: pycparser in /usr/local/lib/python3.7/dist-packages (from cffi>=1.12->cryptography>=1.3.4->urllib3[secure,socks]~=1.26->selenium) (2.21)\n",
            "Collecting h11<1,>=0.9.0\n",
            "  Downloading h11-0.13.0-py3-none-any.whl (58 kB)\n",
            "\u001b[K     |████████████████████████████████| 58 kB 4.3 MB/s \n",
            "\u001b[?25hRequirement already satisfied: typing-extensions in /usr/local/lib/python3.7/dist-packages (from h11<1,>=0.9.0->wsproto>=0.14->trio-websocket~=0.9->selenium) (3.10.0.2)\n",
            "Installing collected packages: sniffio, outcome, h11, cryptography, async-generator, wsproto, urllib3, trio, pyOpenSSL, trio-websocket, selenium\n",
            "  Attempting uninstall: urllib3\n",
            "    Found existing installation: urllib3 1.24.3\n",
            "    Uninstalling urllib3-1.24.3:\n",
            "      Successfully uninstalled urllib3-1.24.3\n",
            "\u001b[31mERROR: pip's dependency resolver does not currently take into account all the packages that are installed. This behaviour is the source of the following dependency conflicts.\n",
            "requests 2.23.0 requires urllib3!=1.25.0,!=1.25.1,<1.26,>=1.21.1, but you have urllib3 1.26.8 which is incompatible.\n",
            "datascience 0.10.6 requires folium==0.2.1, but you have folium 0.8.3 which is incompatible.\u001b[0m\n",
            "Successfully installed async-generator-1.10 cryptography-36.0.1 h11-0.13.0 outcome-1.1.0 pyOpenSSL-22.0.0 selenium-4.1.2 sniffio-1.2.0 trio-0.20.0 trio-websocket-0.9.2 urllib3-1.26.8 wsproto-1.1.0\n"
          ]
        }
      ]
    },
    {
      "cell_type": "code",
      "source": [
        "driver.get('https://www.mygov.in/group-issue/inviting-ideas-and-suggestions-union-budget-2022-2023/')"
      ],
      "metadata": {
        "id": "gi9_KhXCAFBA"
      },
      "execution_count": null,
      "outputs": []
    },
    {
      "cell_type": "code",
      "source": [
        "# from selenium.webdriver.support.ui import WebDriverWait\n",
        "# from selenium.webdriver.support import expected_conditions as EC\n",
        "# from selenium.webdriver.common.by import By\n",
        "# import time\n",
        "# loadingButton = WebDriverWait(driver,30).until(EC.presence_of_element_located((By.XPATH,\"//div[@id='load-more-btn']\")))\n",
        "# maxTires = 200;\n",
        "# while loadingButton:\n",
        "#     loadingButton.click()\n",
        "#     time.sleep(2)\n",
        "#     element = WebDriverWait(driver, 10).until(EC.presence_of_element_located((By.XPATH,\"//span[@itemprop='headline']\")))\n",
        "#     title = driver.find_elements_by_xpath('//span[@itemprop=\"headline\"]')\n",
        "#     if len(title)>0:\n",
        "#         loadingButton = driver.find_element_by_xpath(\"//div[@id='load-more-btn']\")\n",
        "#         tiresLoaded = len(driver.find_elements_by_css_selector(\".catResultWrapper.result\"))\n",
        "#     else:\n",
        "#         print(\"Loaded all the tires\")\n",
        "#         break\n",
        "#     if tiresLoaded >= maxTires:\n",
        "#         print (tiresLoaded + \" are loaded successfully.\")\n",
        "#         break"
      ],
      "metadata": {
        "id": "_u5hywXlImWU"
      },
      "execution_count": null,
      "outputs": []
    },
    {
      "cell_type": "code",
      "source": [
        "#driver.quit()"
      ],
      "metadata": {
        "id": "hE7DWSa3QurU"
      },
      "execution_count": null,
      "outputs": []
    },
    {
      "cell_type": "code",
      "source": [
        "title = driver.find_elements_by_xpath('//div[@class=\"comment_body\"]')\n",
        "\n",
        "title_list = [title[p].text for p in range(len(title))]"
      ],
      "metadata": {
        "colab": {
          "base_uri": "https://localhost:8080/"
        },
        "id": "mrZ-9CaGZVdL",
        "outputId": "7f70d709-f7f8-4699-a8e7-385673ae61d6"
      },
      "execution_count": null,
      "outputs": [
        {
          "output_type": "stream",
          "name": "stderr",
          "text": [
            "/usr/local/lib/python3.7/dist-packages/ipykernel_launcher.py:1: DeprecationWarning: find_elements_by_xpath is deprecated. Please use find_elements(by=By.XPATH, value=xpath) instead\n",
            "  \"\"\"Entry point for launching an IPython kernel.\n"
          ]
        }
      ]
    },
    {
      "cell_type": "code",
      "source": [
        "len(title_list)"
      ],
      "metadata": {
        "colab": {
          "base_uri": "https://localhost:8080/"
        },
        "id": "8NluDnEdZYnp",
        "outputId": "edf67473-334a-4291-a2b8-56add353899c"
      },
      "execution_count": null,
      "outputs": [
        {
          "output_type": "execute_result",
          "data": {
            "text/plain": [
              "10"
            ]
          },
          "metadata": {},
          "execution_count": 8
        }
      ]
    },
    {
      "cell_type": "code",
      "source": [
        "from selenium.common.exceptions import TimeoutException\n",
        "from selenium.webdriver.support.ui import WebDriverWait\n",
        "from selenium.webdriver.support import expected_conditions as EC\n",
        "from selenium.webdriver.common.by import By\n",
        "import time\n",
        "while True:\n",
        "    try:\n",
        "        # WebDriverWait(driver, 20).until(EC.element_to_be_clickable((By.XPATH, \"//button[@class='btn btn-primary btn-lg']//span[@class='glyphicon glyphicon-play']\"))).click()\n",
        "        time.sleep(2)\n",
        "        print(\"LOAD MORE RESULTS button clicked\")\n",
        "        WebDriverWait(driver, 20).until(EC.element_to_be_clickable((By.XPATH, \"//li[@class='pager-next first last']\"))).click()\n",
        "    except:\n",
        "        print(\"No more LOAD MORE RESULTS button to be clicked\")\n",
        "        break\n",
        "title = driver.find_elements_by_xpath('//div[@class=\"comment_body\"]')\n",
        "\n",
        "title_list = [title[p].text for p in range(len(title))]\n",
        "\n",
        "print(len(title_list))\n",
        "driver.quit()"
      ],
      "metadata": {
        "colab": {
          "base_uri": "https://localhost:8080/"
        },
        "id": "4_956h9-PY5O",
        "outputId": "7f837367-aac6-4248-c4f5-7878abc35084"
      },
      "execution_count": null,
      "outputs": [
        {
          "output_type": "stream",
          "name": "stdout",
          "text": [
            "LOAD MORE RESULTS button clicked\n",
            "LOAD MORE RESULTS button clicked\n",
            "LOAD MORE RESULTS button clicked\n",
            "LOAD MORE RESULTS button clicked\n",
            "LOAD MORE RESULTS button clicked\n",
            "LOAD MORE RESULTS button clicked\n",
            "LOAD MORE RESULTS button clicked\n",
            "LOAD MORE RESULTS button clicked\n",
            "LOAD MORE RESULTS button clicked\n",
            "LOAD MORE RESULTS button clicked\n",
            "LOAD MORE RESULTS button clicked\n",
            "LOAD MORE RESULTS button clicked\n",
            "LOAD MORE RESULTS button clicked\n",
            "LOAD MORE RESULTS button clicked\n",
            "LOAD MORE RESULTS button clicked\n",
            "LOAD MORE RESULTS button clicked\n",
            "LOAD MORE RESULTS button clicked\n",
            "LOAD MORE RESULTS button clicked\n",
            "LOAD MORE RESULTS button clicked\n",
            "LOAD MORE RESULTS button clicked\n",
            "LOAD MORE RESULTS button clicked\n",
            "LOAD MORE RESULTS button clicked\n",
            "LOAD MORE RESULTS button clicked\n",
            "LOAD MORE RESULTS button clicked\n",
            "LOAD MORE RESULTS button clicked\n",
            "LOAD MORE RESULTS button clicked\n",
            "LOAD MORE RESULTS button clicked\n",
            "LOAD MORE RESULTS button clicked\n",
            "LOAD MORE RESULTS button clicked\n",
            "LOAD MORE RESULTS button clicked\n",
            "LOAD MORE RESULTS button clicked\n",
            "LOAD MORE RESULTS button clicked\n",
            "LOAD MORE RESULTS button clicked\n",
            "LOAD MORE RESULTS button clicked\n",
            "LOAD MORE RESULTS button clicked\n",
            "LOAD MORE RESULTS button clicked\n",
            "LOAD MORE RESULTS button clicked\n",
            "LOAD MORE RESULTS button clicked\n",
            "LOAD MORE RESULTS button clicked\n",
            "LOAD MORE RESULTS button clicked\n",
            "LOAD MORE RESULTS button clicked\n",
            "LOAD MORE RESULTS button clicked\n",
            "LOAD MORE RESULTS button clicked\n",
            "LOAD MORE RESULTS button clicked\n",
            "LOAD MORE RESULTS button clicked\n",
            "LOAD MORE RESULTS button clicked\n",
            "LOAD MORE RESULTS button clicked\n",
            "LOAD MORE RESULTS button clicked\n",
            "LOAD MORE RESULTS button clicked\n",
            "LOAD MORE RESULTS button clicked\n",
            "LOAD MORE RESULTS button clicked\n",
            "LOAD MORE RESULTS button clicked\n",
            "LOAD MORE RESULTS button clicked\n",
            "LOAD MORE RESULTS button clicked\n",
            "LOAD MORE RESULTS button clicked\n",
            "LOAD MORE RESULTS button clicked\n",
            "LOAD MORE RESULTS button clicked\n",
            "LOAD MORE RESULTS button clicked\n",
            "LOAD MORE RESULTS button clicked\n",
            "LOAD MORE RESULTS button clicked\n",
            "LOAD MORE RESULTS button clicked\n",
            "LOAD MORE RESULTS button clicked\n",
            "LOAD MORE RESULTS button clicked\n",
            "LOAD MORE RESULTS button clicked\n",
            "LOAD MORE RESULTS button clicked\n",
            "LOAD MORE RESULTS button clicked\n",
            "LOAD MORE RESULTS button clicked\n",
            "LOAD MORE RESULTS button clicked\n",
            "LOAD MORE RESULTS button clicked\n",
            "LOAD MORE RESULTS button clicked\n",
            "LOAD MORE RESULTS button clicked\n",
            "LOAD MORE RESULTS button clicked\n",
            "LOAD MORE RESULTS button clicked\n",
            "LOAD MORE RESULTS button clicked\n",
            "LOAD MORE RESULTS button clicked\n",
            "LOAD MORE RESULTS button clicked\n",
            "LOAD MORE RESULTS button clicked\n",
            "LOAD MORE RESULTS button clicked\n",
            "LOAD MORE RESULTS button clicked\n",
            "LOAD MORE RESULTS button clicked\n",
            "LOAD MORE RESULTS button clicked\n",
            "LOAD MORE RESULTS button clicked\n",
            "LOAD MORE RESULTS button clicked\n",
            "LOAD MORE RESULTS button clicked\n",
            "LOAD MORE RESULTS button clicked\n",
            "LOAD MORE RESULTS button clicked\n",
            "LOAD MORE RESULTS button clicked\n",
            "LOAD MORE RESULTS button clicked\n",
            "LOAD MORE RESULTS button clicked\n",
            "LOAD MORE RESULTS button clicked\n",
            "LOAD MORE RESULTS button clicked\n",
            "LOAD MORE RESULTS button clicked\n",
            "LOAD MORE RESULTS button clicked\n",
            "LOAD MORE RESULTS button clicked\n",
            "LOAD MORE RESULTS button clicked\n",
            "LOAD MORE RESULTS button clicked\n",
            "LOAD MORE RESULTS button clicked\n",
            "LOAD MORE RESULTS button clicked\n",
            "LOAD MORE RESULTS button clicked\n",
            "LOAD MORE RESULTS button clicked\n",
            "LOAD MORE RESULTS button clicked\n",
            "LOAD MORE RESULTS button clicked\n",
            "LOAD MORE RESULTS button clicked\n",
            "LOAD MORE RESULTS button clicked\n",
            "LOAD MORE RESULTS button clicked\n",
            "LOAD MORE RESULTS button clicked\n",
            "LOAD MORE RESULTS button clicked\n",
            "LOAD MORE RESULTS button clicked\n",
            "LOAD MORE RESULTS button clicked\n",
            "LOAD MORE RESULTS button clicked\n",
            "LOAD MORE RESULTS button clicked\n",
            "LOAD MORE RESULTS button clicked\n",
            "LOAD MORE RESULTS button clicked\n",
            "LOAD MORE RESULTS button clicked\n",
            "LOAD MORE RESULTS button clicked\n",
            "LOAD MORE RESULTS button clicked\n",
            "LOAD MORE RESULTS button clicked\n",
            "LOAD MORE RESULTS button clicked\n",
            "LOAD MORE RESULTS button clicked\n",
            "LOAD MORE RESULTS button clicked\n",
            "LOAD MORE RESULTS button clicked\n",
            "LOAD MORE RESULTS button clicked\n",
            "LOAD MORE RESULTS button clicked\n",
            "LOAD MORE RESULTS button clicked\n",
            "LOAD MORE RESULTS button clicked\n",
            "LOAD MORE RESULTS button clicked\n",
            "LOAD MORE RESULTS button clicked\n",
            "LOAD MORE RESULTS button clicked\n",
            "LOAD MORE RESULTS button clicked\n",
            "LOAD MORE RESULTS button clicked\n",
            "LOAD MORE RESULTS button clicked\n",
            "LOAD MORE RESULTS button clicked\n",
            "LOAD MORE RESULTS button clicked\n",
            "LOAD MORE RESULTS button clicked\n",
            "LOAD MORE RESULTS button clicked\n",
            "LOAD MORE RESULTS button clicked\n",
            "LOAD MORE RESULTS button clicked\n",
            "LOAD MORE RESULTS button clicked\n",
            "LOAD MORE RESULTS button clicked\n",
            "LOAD MORE RESULTS button clicked\n",
            "LOAD MORE RESULTS button clicked\n",
            "LOAD MORE RESULTS button clicked\n",
            "LOAD MORE RESULTS button clicked\n",
            "LOAD MORE RESULTS button clicked\n",
            "LOAD MORE RESULTS button clicked\n",
            "LOAD MORE RESULTS button clicked\n",
            "LOAD MORE RESULTS button clicked\n",
            "LOAD MORE RESULTS button clicked\n",
            "LOAD MORE RESULTS button clicked\n",
            "LOAD MORE RESULTS button clicked\n",
            "LOAD MORE RESULTS button clicked\n",
            "LOAD MORE RESULTS button clicked\n",
            "LOAD MORE RESULTS button clicked\n",
            "LOAD MORE RESULTS button clicked\n",
            "LOAD MORE RESULTS button clicked\n",
            "LOAD MORE RESULTS button clicked\n",
            "LOAD MORE RESULTS button clicked\n",
            "LOAD MORE RESULTS button clicked\n",
            "LOAD MORE RESULTS button clicked\n",
            "LOAD MORE RESULTS button clicked\n",
            "LOAD MORE RESULTS button clicked\n",
            "LOAD MORE RESULTS button clicked\n",
            "LOAD MORE RESULTS button clicked\n",
            "LOAD MORE RESULTS button clicked\n",
            "LOAD MORE RESULTS button clicked\n",
            "LOAD MORE RESULTS button clicked\n",
            "LOAD MORE RESULTS button clicked\n",
            "LOAD MORE RESULTS button clicked\n",
            "LOAD MORE RESULTS button clicked\n",
            "LOAD MORE RESULTS button clicked\n",
            "LOAD MORE RESULTS button clicked\n",
            "LOAD MORE RESULTS button clicked\n",
            "LOAD MORE RESULTS button clicked\n",
            "LOAD MORE RESULTS button clicked\n",
            "LOAD MORE RESULTS button clicked\n",
            "LOAD MORE RESULTS button clicked\n",
            "LOAD MORE RESULTS button clicked\n",
            "LOAD MORE RESULTS button clicked\n",
            "LOAD MORE RESULTS button clicked\n",
            "LOAD MORE RESULTS button clicked\n",
            "LOAD MORE RESULTS button clicked\n",
            "LOAD MORE RESULTS button clicked\n",
            "LOAD MORE RESULTS button clicked\n",
            "LOAD MORE RESULTS button clicked\n",
            "LOAD MORE RESULTS button clicked\n",
            "LOAD MORE RESULTS button clicked\n",
            "LOAD MORE RESULTS button clicked\n",
            "LOAD MORE RESULTS button clicked\n",
            "LOAD MORE RESULTS button clicked\n",
            "LOAD MORE RESULTS button clicked\n",
            "LOAD MORE RESULTS button clicked\n",
            "LOAD MORE RESULTS button clicked\n",
            "LOAD MORE RESULTS button clicked\n",
            "LOAD MORE RESULTS button clicked\n",
            "LOAD MORE RESULTS button clicked\n",
            "LOAD MORE RESULTS button clicked\n",
            "LOAD MORE RESULTS button clicked\n",
            "LOAD MORE RESULTS button clicked\n",
            "LOAD MORE RESULTS button clicked\n",
            "LOAD MORE RESULTS button clicked\n",
            "LOAD MORE RESULTS button clicked\n",
            "LOAD MORE RESULTS button clicked\n",
            "LOAD MORE RESULTS button clicked\n",
            "LOAD MORE RESULTS button clicked\n",
            "LOAD MORE RESULTS button clicked\n",
            "LOAD MORE RESULTS button clicked\n",
            "LOAD MORE RESULTS button clicked\n",
            "LOAD MORE RESULTS button clicked\n",
            "LOAD MORE RESULTS button clicked\n",
            "LOAD MORE RESULTS button clicked\n",
            "LOAD MORE RESULTS button clicked\n",
            "LOAD MORE RESULTS button clicked\n",
            "LOAD MORE RESULTS button clicked\n",
            "LOAD MORE RESULTS button clicked\n",
            "LOAD MORE RESULTS button clicked\n",
            "LOAD MORE RESULTS button clicked\n",
            "LOAD MORE RESULTS button clicked\n",
            "LOAD MORE RESULTS button clicked\n",
            "LOAD MORE RESULTS button clicked\n",
            "LOAD MORE RESULTS button clicked\n",
            "LOAD MORE RESULTS button clicked\n",
            "LOAD MORE RESULTS button clicked\n",
            "LOAD MORE RESULTS button clicked\n",
            "LOAD MORE RESULTS button clicked\n",
            "LOAD MORE RESULTS button clicked\n",
            "LOAD MORE RESULTS button clicked\n",
            "LOAD MORE RESULTS button clicked\n",
            "LOAD MORE RESULTS button clicked\n",
            "LOAD MORE RESULTS button clicked\n",
            "LOAD MORE RESULTS button clicked\n",
            "LOAD MORE RESULTS button clicked\n",
            "LOAD MORE RESULTS button clicked\n",
            "LOAD MORE RESULTS button clicked\n",
            "LOAD MORE RESULTS button clicked\n",
            "LOAD MORE RESULTS button clicked\n",
            "LOAD MORE RESULTS button clicked\n",
            "LOAD MORE RESULTS button clicked\n",
            "LOAD MORE RESULTS button clicked\n",
            "LOAD MORE RESULTS button clicked\n",
            "LOAD MORE RESULTS button clicked\n",
            "LOAD MORE RESULTS button clicked\n",
            "LOAD MORE RESULTS button clicked\n",
            "LOAD MORE RESULTS button clicked\n",
            "LOAD MORE RESULTS button clicked\n",
            "LOAD MORE RESULTS button clicked\n",
            "LOAD MORE RESULTS button clicked\n",
            "LOAD MORE RESULTS button clicked\n",
            "LOAD MORE RESULTS button clicked\n",
            "LOAD MORE RESULTS button clicked\n",
            "LOAD MORE RESULTS button clicked\n",
            "LOAD MORE RESULTS button clicked\n",
            "LOAD MORE RESULTS button clicked\n",
            "LOAD MORE RESULTS button clicked\n",
            "LOAD MORE RESULTS button clicked\n",
            "LOAD MORE RESULTS button clicked\n",
            "LOAD MORE RESULTS button clicked\n",
            "LOAD MORE RESULTS button clicked\n",
            "LOAD MORE RESULTS button clicked\n",
            "LOAD MORE RESULTS button clicked\n",
            "LOAD MORE RESULTS button clicked\n",
            "LOAD MORE RESULTS button clicked\n",
            "LOAD MORE RESULTS button clicked\n",
            "LOAD MORE RESULTS button clicked\n",
            "LOAD MORE RESULTS button clicked\n",
            "LOAD MORE RESULTS button clicked\n",
            "LOAD MORE RESULTS button clicked\n",
            "LOAD MORE RESULTS button clicked\n",
            "LOAD MORE RESULTS button clicked\n",
            "LOAD MORE RESULTS button clicked\n",
            "LOAD MORE RESULTS button clicked\n",
            "LOAD MORE RESULTS button clicked\n",
            "LOAD MORE RESULTS button clicked\n",
            "LOAD MORE RESULTS button clicked\n",
            "LOAD MORE RESULTS button clicked\n",
            "No more LOAD MORE RESULTS button to be clicked\n"
          ]
        },
        {
          "output_type": "stream",
          "name": "stderr",
          "text": [
            "/usr/local/lib/python3.7/dist-packages/ipykernel_launcher.py:15: DeprecationWarning: find_elements_by_xpath is deprecated. Please use find_elements(by=By.XPATH, value=xpath) instead\n",
            "  from ipykernel import kernelapp as app\n"
          ]
        },
        {
          "output_type": "stream",
          "name": "stdout",
          "text": [
            "860\n"
          ]
        }
      ]
    },
    {
      "cell_type": "code",
      "source": [
        "#date_list[-1]\n",
        "len(title_list)"
      ],
      "metadata": {
        "colab": {
          "base_uri": "https://localhost:8080/"
        },
        "id": "4WGLCHUQq9qK",
        "outputId": "3fe9e280-31cf-4f83-ef1f-7966176e750c"
      },
      "execution_count": null,
      "outputs": [
        {
          "output_type": "execute_result",
          "data": {
            "text/plain": [
              "860"
            ]
          },
          "metadata": {},
          "execution_count": 10
        }
      ]
    },
    {
      "cell_type": "code",
      "source": [
        "title_list"
      ],
      "metadata": {
        "id": "-hVonLjDmbJT"
      },
      "execution_count": null,
      "outputs": []
    },
    {
      "cell_type": "code",
      "source": [
        "df = pd.DataFrame()\n",
        "df['title'] = title_list\n",
        "\n",
        "#df['date'] = date_list\n",
        "df.to_csv(\"/content/drive/MyDrive/Research/Other datasets/union_v2.csv\")"
      ],
      "metadata": {
        "id": "W5kPcA59XHKI"
      },
      "execution_count": null,
      "outputs": []
    },
    {
      "cell_type": "code",
      "source": [
        "df"
      ],
      "metadata": {
        "id": "e_82uFbPrZQk",
        "colab": {
          "base_uri": "https://localhost:8080/",
          "height": 424
        },
        "outputId": "17a6056f-4f76-414a-fba5-5746e241456e"
      },
      "execution_count": null,
      "outputs": [
        {
          "output_type": "execute_result",
          "data": {
            "text/html": [
              "\n",
              "  <div id=\"df-912ef929-7879-4b2f-9bdc-10239417146b\">\n",
              "    <div class=\"colab-df-container\">\n",
              "      <div>\n",
              "<style scoped>\n",
              "    .dataframe tbody tr th:only-of-type {\n",
              "        vertical-align: middle;\n",
              "    }\n",
              "\n",
              "    .dataframe tbody tr th {\n",
              "        vertical-align: top;\n",
              "    }\n",
              "\n",
              "    .dataframe thead th {\n",
              "        text-align: right;\n",
              "    }\n",
              "</style>\n",
              "<table border=\"1\" class=\"dataframe\">\n",
              "  <thead>\n",
              "    <tr style=\"text-align: right;\">\n",
              "      <th></th>\n",
              "      <th>title</th>\n",
              "    </tr>\n",
              "  </thead>\n",
              "  <tbody>\n",
              "    <tr>\n",
              "      <th>0</th>\n",
              "      <td>Under Income Tax, all medical related deductio...</td>\n",
              "    </tr>\n",
              "    <tr>\n",
              "      <th>1</th>\n",
              "      <td>Recommendations</td>\n",
              "    </tr>\n",
              "    <tr>\n",
              "      <th>2</th>\n",
              "      <td>Rental deduction and deduction towards own hou...</td>\n",
              "    </tr>\n",
              "    <tr>\n",
              "      <th>3</th>\n",
              "      <td>The deductions and exemptions related to Housi...</td>\n",
              "    </tr>\n",
              "    <tr>\n",
              "      <th>4</th>\n",
              "      <td>Dear Finance Minister\\nI can't able to upload ...</td>\n",
              "    </tr>\n",
              "    <tr>\n",
              "      <th>...</th>\n",
              "      <td>...</td>\n",
              "    </tr>\n",
              "    <tr>\n",
              "      <th>855</th>\n",
              "      <td>budget should consider, for employees as whate...</td>\n",
              "    </tr>\n",
              "    <tr>\n",
              "      <th>856</th>\n",
              "      <td>According to my opinion the minimum wages shou...</td>\n",
              "    </tr>\n",
              "    <tr>\n",
              "      <th>857</th>\n",
              "      <td>बजट संतुलन बजट के अंतर्गत ह्यूमन वेलफेयर के खर...</td>\n",
              "    </tr>\n",
              "    <tr>\n",
              "      <th>858</th>\n",
              "      <td>1 जनवरी 2022 क्या हम सब प्रसन्न हैं परिस्थिति ...</td>\n",
              "    </tr>\n",
              "    <tr>\n",
              "      <th>859</th>\n",
              "      <td>करदाता पर कर का बोझ अधिकाधिक लादना ही वित्त मं...</td>\n",
              "    </tr>\n",
              "  </tbody>\n",
              "</table>\n",
              "<p>860 rows × 1 columns</p>\n",
              "</div>\n",
              "      <button class=\"colab-df-convert\" onclick=\"convertToInteractive('df-912ef929-7879-4b2f-9bdc-10239417146b')\"\n",
              "              title=\"Convert this dataframe to an interactive table.\"\n",
              "              style=\"display:none;\">\n",
              "        \n",
              "  <svg xmlns=\"http://www.w3.org/2000/svg\" height=\"24px\"viewBox=\"0 0 24 24\"\n",
              "       width=\"24px\">\n",
              "    <path d=\"M0 0h24v24H0V0z\" fill=\"none\"/>\n",
              "    <path d=\"M18.56 5.44l.94 2.06.94-2.06 2.06-.94-2.06-.94-.94-2.06-.94 2.06-2.06.94zm-11 1L8.5 8.5l.94-2.06 2.06-.94-2.06-.94L8.5 2.5l-.94 2.06-2.06.94zm10 10l.94 2.06.94-2.06 2.06-.94-2.06-.94-.94-2.06-.94 2.06-2.06.94z\"/><path d=\"M17.41 7.96l-1.37-1.37c-.4-.4-.92-.59-1.43-.59-.52 0-1.04.2-1.43.59L10.3 9.45l-7.72 7.72c-.78.78-.78 2.05 0 2.83L4 21.41c.39.39.9.59 1.41.59.51 0 1.02-.2 1.41-.59l7.78-7.78 2.81-2.81c.8-.78.8-2.07 0-2.86zM5.41 20L4 18.59l7.72-7.72 1.47 1.35L5.41 20z\"/>\n",
              "  </svg>\n",
              "      </button>\n",
              "      \n",
              "  <style>\n",
              "    .colab-df-container {\n",
              "      display:flex;\n",
              "      flex-wrap:wrap;\n",
              "      gap: 12px;\n",
              "    }\n",
              "\n",
              "    .colab-df-convert {\n",
              "      background-color: #E8F0FE;\n",
              "      border: none;\n",
              "      border-radius: 50%;\n",
              "      cursor: pointer;\n",
              "      display: none;\n",
              "      fill: #1967D2;\n",
              "      height: 32px;\n",
              "      padding: 0 0 0 0;\n",
              "      width: 32px;\n",
              "    }\n",
              "\n",
              "    .colab-df-convert:hover {\n",
              "      background-color: #E2EBFA;\n",
              "      box-shadow: 0px 1px 2px rgba(60, 64, 67, 0.3), 0px 1px 3px 1px rgba(60, 64, 67, 0.15);\n",
              "      fill: #174EA6;\n",
              "    }\n",
              "\n",
              "    [theme=dark] .colab-df-convert {\n",
              "      background-color: #3B4455;\n",
              "      fill: #D2E3FC;\n",
              "    }\n",
              "\n",
              "    [theme=dark] .colab-df-convert:hover {\n",
              "      background-color: #434B5C;\n",
              "      box-shadow: 0px 1px 3px 1px rgba(0, 0, 0, 0.15);\n",
              "      filter: drop-shadow(0px 1px 2px rgba(0, 0, 0, 0.3));\n",
              "      fill: #FFFFFF;\n",
              "    }\n",
              "  </style>\n",
              "\n",
              "      <script>\n",
              "        const buttonEl =\n",
              "          document.querySelector('#df-912ef929-7879-4b2f-9bdc-10239417146b button.colab-df-convert');\n",
              "        buttonEl.style.display =\n",
              "          google.colab.kernel.accessAllowed ? 'block' : 'none';\n",
              "\n",
              "        async function convertToInteractive(key) {\n",
              "          const element = document.querySelector('#df-912ef929-7879-4b2f-9bdc-10239417146b');\n",
              "          const dataTable =\n",
              "            await google.colab.kernel.invokeFunction('convertToInteractive',\n",
              "                                                     [key], {});\n",
              "          if (!dataTable) return;\n",
              "\n",
              "          const docLinkHtml = 'Like what you see? Visit the ' +\n",
              "            '<a target=\"_blank\" href=https://colab.research.google.com/notebooks/data_table.ipynb>data table notebook</a>'\n",
              "            + ' to learn more about interactive tables.';\n",
              "          element.innerHTML = '';\n",
              "          dataTable['output_type'] = 'display_data';\n",
              "          await google.colab.output.renderOutput(dataTable, element);\n",
              "          const docLink = document.createElement('div');\n",
              "          docLink.innerHTML = docLinkHtml;\n",
              "          element.appendChild(docLink);\n",
              "        }\n",
              "      </script>\n",
              "    </div>\n",
              "  </div>\n",
              "  "
            ],
            "text/plain": [
              "                                                 title\n",
              "0    Under Income Tax, all medical related deductio...\n",
              "1                                      Recommendations\n",
              "2    Rental deduction and deduction towards own hou...\n",
              "3    The deductions and exemptions related to Housi...\n",
              "4    Dear Finance Minister\\nI can't able to upload ...\n",
              "..                                                 ...\n",
              "855  budget should consider, for employees as whate...\n",
              "856  According to my opinion the minimum wages shou...\n",
              "857  बजट संतुलन बजट के अंतर्गत ह्यूमन वेलफेयर के खर...\n",
              "858  1 जनवरी 2022 क्या हम सब प्रसन्न हैं परिस्थिति ...\n",
              "859  करदाता पर कर का बोझ अधिकाधिक लादना ही वित्त मं...\n",
              "\n",
              "[860 rows x 1 columns]"
            ]
          },
          "metadata": {},
          "execution_count": 12
        }
      ]
    },
    {
      "cell_type": "code",
      "source": [
        "# title_list = [title[p].text for p in range(len(title))]\n",
        "# len(title_list)"
      ],
      "metadata": {
        "id": "3PhXK5u0NQj8"
      },
      "execution_count": null,
      "outputs": []
    },
    {
      "cell_type": "code",
      "source": [
        "# len(title_list)"
      ],
      "metadata": {
        "id": "HZ6tS43pOALD"
      },
      "execution_count": null,
      "outputs": []
    },
    {
      "cell_type": "code",
      "source": [
        "# title = driver.find_elements_by_xpath('//span[@itemprop=\"headline\"]')\n",
        "# article = driver.find_elements_by_xpath('//div[@itemprop=\"articleBody\"]')\n",
        "# date = driver.find_elements_by_xpath('//span[@clas=\"date\"]')"
      ],
      "metadata": {
        "id": "yFpXorTjBA5V"
      },
      "execution_count": null,
      "outputs": []
    },
    {
      "cell_type": "code",
      "source": [
        "# title_list = [title[p].text for p in range(len(title))]\n",
        "# article_list = [article[p].text for p in range(len(article))]\n",
        "# date_list = [date[p].text for p in range(len(date))]"
      ],
      "metadata": {
        "id": "Uwe30KGLAiLR"
      },
      "execution_count": null,
      "outputs": []
    },
    {
      "cell_type": "code",
      "source": [
        "\n",
        "# df = pd.DataFrame(columns=['Player','Salary','Year']) # creates master dataframe \n",
        "\n",
        "# #driver = webdriver.Chrome('/Users/MyUsername/Downloads/chromedriver')\n",
        "\n",
        "# for yr in range(1990,2019):\n",
        "#     page_num = str(yr) + '-' + str(yr+1) +'/'\n",
        "#     url = 'https://hoopshype.com/salaries/players/' + page_num\n",
        "#     driver.get(url)\n",
        "    \n",
        "#     players = driver.find_elements_by_xpath('//td[@class=\"name\"]')\n",
        "#     salaries = driver.find_elements_by_xpath('//td[@class=\"hh-salaries-sorted\"]') \n",
        "    \n",
        "#     players_list = []\n",
        "#     for p in range(len(players)):\n",
        "#         players_list.append(players[p].text)\n",
        "    \n",
        "#     salaries_list = []\n",
        "#     for s in range(len(salaries)):\n",
        "#         salaries_list.append(salaries[s].text)\n",
        "    \n",
        "#     data_tuples = list(zip(players_list[1:],salaries_list[1:])) # list of each players name and salary paired together\n",
        "#     temp_df = pd.DataFrame(data_tuples, columns=['Player','Salary']) # creates dataframe of each tuple in list\n",
        "#     temp_df['Year'] = yr # adds season beginning year to each dataframe\n",
        "#     df = df.append(temp_df) # appends to master dataframe\n",
        "    \n",
        "# driver.close()"
      ],
      "metadata": {
        "id": "fJc2ZV73Bd55"
      },
      "execution_count": null,
      "outputs": []
    },
    {
      "cell_type": "code",
      "source": [
        ""
      ],
      "metadata": {
        "id": "pibUuPjuBxPh"
      },
      "execution_count": null,
      "outputs": []
    }
  ]
}