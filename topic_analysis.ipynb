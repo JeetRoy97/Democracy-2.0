{
  "cells": [
    {
      "cell_type": "markdown",
      "metadata": {
        "id": "view-in-github",
        "colab_type": "text"
      },
      "source": [
        "<a href=\"https://colab.research.google.com/github/JeetRoy97/Democracy-2.0/blob/main/topic_analysis.ipynb\" target=\"_parent\"><img src=\"https://colab.research.google.com/assets/colab-badge.svg\" alt=\"Open In Colab\"/></a>"
      ]
    },
    {
      "cell_type": "code",
      "source": [
        "from google.colab import drive\n",
        "drive.mount('/content/drive')"
      ],
      "metadata": {
        "colab": {
          "base_uri": "https://localhost:8080/"
        },
        "id": "-V-1dwhuErRn",
        "outputId": "1fd1a295-5bdb-4db8-dc67-df4430989f1e"
      },
      "id": "-V-1dwhuErRn",
      "execution_count": null,
      "outputs": [
        {
          "output_type": "stream",
          "name": "stdout",
          "text": [
            "Drive already mounted at /content/drive; to attempt to forcibly remount, call drive.mount(\"/content/drive\", force_remount=True).\n"
          ]
        }
      ]
    },
    {
      "cell_type": "code",
      "source": [
        "!pip install pyLDAvis"
      ],
      "metadata": {
        "colab": {
          "base_uri": "https://localhost:8080/"
        },
        "id": "OQjAAkTxEniK",
        "outputId": "452df25a-dbaf-4331-9056-c026a167db43"
      },
      "id": "OQjAAkTxEniK",
      "execution_count": null,
      "outputs": [
        {
          "output_type": "stream",
          "name": "stdout",
          "text": [
            "Requirement already satisfied: pyLDAvis in /usr/local/lib/python3.7/dist-packages (3.3.1)\n",
            "Requirement already satisfied: scipy in /usr/local/lib/python3.7/dist-packages (from pyLDAvis) (1.4.1)\n",
            "Requirement already satisfied: numpy>=1.20.0 in /usr/local/lib/python3.7/dist-packages (from pyLDAvis) (1.21.5)\n",
            "Requirement already satisfied: pandas>=1.2.0 in /usr/local/lib/python3.7/dist-packages (from pyLDAvis) (1.3.5)\n",
            "Requirement already satisfied: future in /usr/local/lib/python3.7/dist-packages (from pyLDAvis) (0.16.0)\n",
            "Requirement already satisfied: sklearn in /usr/local/lib/python3.7/dist-packages (from pyLDAvis) (0.0)\n",
            "Requirement already satisfied: gensim in /usr/local/lib/python3.7/dist-packages (from pyLDAvis) (3.8.3)\n",
            "Requirement already satisfied: jinja2 in /usr/local/lib/python3.7/dist-packages (from pyLDAvis) (2.11.3)\n",
            "Requirement already satisfied: scikit-learn in /usr/local/lib/python3.7/dist-packages (from pyLDAvis) (1.0.2)\n",
            "Requirement already satisfied: joblib in /usr/local/lib/python3.7/dist-packages (from pyLDAvis) (1.1.0)\n",
            "Requirement already satisfied: setuptools in /usr/local/lib/python3.7/dist-packages (from pyLDAvis) (57.4.0)\n",
            "Requirement already satisfied: funcy in /usr/local/lib/python3.7/dist-packages (from pyLDAvis) (1.17)\n",
            "Requirement already satisfied: numexpr in /usr/local/lib/python3.7/dist-packages (from pyLDAvis) (2.8.1)\n",
            "Requirement already satisfied: pytz>=2017.3 in /usr/local/lib/python3.7/dist-packages (from pandas>=1.2.0->pyLDAvis) (2018.9)\n",
            "Requirement already satisfied: python-dateutil>=2.7.3 in /usr/local/lib/python3.7/dist-packages (from pandas>=1.2.0->pyLDAvis) (2.8.2)\n",
            "Requirement already satisfied: six>=1.5 in /usr/local/lib/python3.7/dist-packages (from python-dateutil>=2.7.3->pandas>=1.2.0->pyLDAvis) (1.15.0)\n",
            "Requirement already satisfied: smart-open>=1.8.1 in /usr/local/lib/python3.7/dist-packages (from gensim->pyLDAvis) (5.2.1)\n",
            "Requirement already satisfied: MarkupSafe>=0.23 in /usr/local/lib/python3.7/dist-packages (from jinja2->pyLDAvis) (2.0.1)\n",
            "Requirement already satisfied: packaging in /usr/local/lib/python3.7/dist-packages (from numexpr->pyLDAvis) (21.3)\n",
            "Requirement already satisfied: pyparsing!=3.0.5,>=2.0.2 in /usr/local/lib/python3.7/dist-packages (from packaging->numexpr->pyLDAvis) (3.0.7)\n",
            "Requirement already satisfied: threadpoolctl>=2.0.0 in /usr/local/lib/python3.7/dist-packages (from scikit-learn->pyLDAvis) (3.1.0)\n"
          ]
        }
      ]
    },
    {
      "cell_type": "code",
      "execution_count": null,
      "id": "17f1c13a",
      "metadata": {
        "colab": {
          "base_uri": "https://localhost:8080/"
        },
        "id": "17f1c13a",
        "outputId": "4773b1eb-72b5-4c82-b1e2-9885f12b846b"
      },
      "outputs": [
        {
          "output_type": "stream",
          "name": "stdout",
          "text": [
            "[nltk_data] Downloading package stopwords to /root/nltk_data...\n",
            "[nltk_data]   Package stopwords is already up-to-date!\n"
          ]
        },
        {
          "output_type": "stream",
          "name": "stderr",
          "text": [
            "/usr/local/lib/python3.7/dist-packages/past/types/oldstr.py:5: DeprecationWarning: Using or importing the ABCs from 'collections' instead of from 'collections.abc' is deprecated since Python 3.3,and in 3.9 it will stop working\n",
            "  from collections import Iterable\n",
            "/usr/local/lib/python3.7/dist-packages/past/builtins/misc.py:4: DeprecationWarning: Using or importing the ABCs from 'collections' instead of from 'collections.abc' is deprecated since Python 3.3,and in 3.9 it will stop working\n",
            "  from collections import Mapping\n",
            "/usr/local/lib/python3.7/dist-packages/scipy/sparse/sparsetools.py:21: DeprecationWarning: `scipy.sparse.sparsetools` is deprecated!\n",
            "scipy.sparse.sparsetools is a private module for scipy.sparse, and should not be used.\n",
            "  _deprecated()\n"
          ]
        }
      ],
      "source": [
        "import json\n",
        "import pandas as pd\n",
        "import nltk\n",
        "nltk.download('stopwords')\n",
        "import pyLDAvis\n",
        "import pyLDAvis.gensim_models as gensimvis\n",
        "import gensim\n",
        "import gensim.corpora as corpora \n",
        "from gensim.utils import simple_preprocess\n",
        "from gensim.models import CoherenceModel\n",
        "import spacy\n",
        "from sklearn.feature_extraction import text\n",
        "from sklearn.feature_extraction.text import CountVectorizer"
      ]
    },
    {
      "cell_type": "code",
      "execution_count": null,
      "id": "6634b59d",
      "metadata": {
        "colab": {
          "base_uri": "https://localhost:8080/"
        },
        "id": "6634b59d",
        "outputId": "3d9cb528-8a1c-4e12-893e-91d6f9d6ec8e"
      },
      "outputs": [
        {
          "output_type": "stream",
          "name": "stdout",
          "text": [
            "Collecting en_core_web_sm==2.2.5\n",
            "  Downloading https://github.com/explosion/spacy-models/releases/download/en_core_web_sm-2.2.5/en_core_web_sm-2.2.5.tar.gz (12.0 MB)\n",
            "\u001b[K     |████████████████████████████████| 12.0 MB 5.2 MB/s \n",
            "\u001b[?25hRequirement already satisfied: spacy>=2.2.2 in /usr/local/lib/python3.7/dist-packages (from en_core_web_sm==2.2.5) (2.2.4)\n",
            "Requirement already satisfied: thinc==7.4.0 in /usr/local/lib/python3.7/dist-packages (from spacy>=2.2.2->en_core_web_sm==2.2.5) (7.4.0)\n",
            "Requirement already satisfied: murmurhash<1.1.0,>=0.28.0 in /usr/local/lib/python3.7/dist-packages (from spacy>=2.2.2->en_core_web_sm==2.2.5) (1.0.6)\n",
            "Requirement already satisfied: requests<3.0.0,>=2.13.0 in /usr/local/lib/python3.7/dist-packages (from spacy>=2.2.2->en_core_web_sm==2.2.5) (2.23.0)\n",
            "Requirement already satisfied: numpy>=1.15.0 in /usr/local/lib/python3.7/dist-packages (from spacy>=2.2.2->en_core_web_sm==2.2.5) (1.21.5)\n",
            "Requirement already satisfied: catalogue<1.1.0,>=0.0.7 in /usr/local/lib/python3.7/dist-packages (from spacy>=2.2.2->en_core_web_sm==2.2.5) (1.0.0)\n",
            "Requirement already satisfied: blis<0.5.0,>=0.4.0 in /usr/local/lib/python3.7/dist-packages (from spacy>=2.2.2->en_core_web_sm==2.2.5) (0.4.1)\n",
            "Requirement already satisfied: setuptools in /usr/local/lib/python3.7/dist-packages (from spacy>=2.2.2->en_core_web_sm==2.2.5) (57.4.0)\n",
            "Requirement already satisfied: preshed<3.1.0,>=3.0.2 in /usr/local/lib/python3.7/dist-packages (from spacy>=2.2.2->en_core_web_sm==2.2.5) (3.0.6)\n",
            "Requirement already satisfied: srsly<1.1.0,>=1.0.2 in /usr/local/lib/python3.7/dist-packages (from spacy>=2.2.2->en_core_web_sm==2.2.5) (1.0.5)\n",
            "Requirement already satisfied: tqdm<5.0.0,>=4.38.0 in /usr/local/lib/python3.7/dist-packages (from spacy>=2.2.2->en_core_web_sm==2.2.5) (4.62.3)\n",
            "Requirement already satisfied: wasabi<1.1.0,>=0.4.0 in /usr/local/lib/python3.7/dist-packages (from spacy>=2.2.2->en_core_web_sm==2.2.5) (0.9.0)\n",
            "Requirement already satisfied: plac<1.2.0,>=0.9.6 in /usr/local/lib/python3.7/dist-packages (from spacy>=2.2.2->en_core_web_sm==2.2.5) (1.1.3)\n",
            "Requirement already satisfied: cymem<2.1.0,>=2.0.2 in /usr/local/lib/python3.7/dist-packages (from spacy>=2.2.2->en_core_web_sm==2.2.5) (2.0.6)\n",
            "Requirement already satisfied: importlib-metadata>=0.20 in /usr/local/lib/python3.7/dist-packages (from catalogue<1.1.0,>=0.0.7->spacy>=2.2.2->en_core_web_sm==2.2.5) (4.11.1)\n",
            "Requirement already satisfied: typing-extensions>=3.6.4 in /usr/local/lib/python3.7/dist-packages (from importlib-metadata>=0.20->catalogue<1.1.0,>=0.0.7->spacy>=2.2.2->en_core_web_sm==2.2.5) (3.10.0.2)\n",
            "Requirement already satisfied: zipp>=0.5 in /usr/local/lib/python3.7/dist-packages (from importlib-metadata>=0.20->catalogue<1.1.0,>=0.0.7->spacy>=2.2.2->en_core_web_sm==2.2.5) (3.7.0)\n",
            "Requirement already satisfied: chardet<4,>=3.0.2 in /usr/local/lib/python3.7/dist-packages (from requests<3.0.0,>=2.13.0->spacy>=2.2.2->en_core_web_sm==2.2.5) (3.0.4)\n",
            "Requirement already satisfied: urllib3!=1.25.0,!=1.25.1,<1.26,>=1.21.1 in /usr/local/lib/python3.7/dist-packages (from requests<3.0.0,>=2.13.0->spacy>=2.2.2->en_core_web_sm==2.2.5) (1.24.3)\n",
            "Requirement already satisfied: idna<3,>=2.5 in /usr/local/lib/python3.7/dist-packages (from requests<3.0.0,>=2.13.0->spacy>=2.2.2->en_core_web_sm==2.2.5) (2.10)\n",
            "Requirement already satisfied: certifi>=2017.4.17 in /usr/local/lib/python3.7/dist-packages (from requests<3.0.0,>=2.13.0->spacy>=2.2.2->en_core_web_sm==2.2.5) (2021.10.8)\n",
            "\u001b[38;5;2m✔ Download and installation successful\u001b[0m\n",
            "You can now load the model via spacy.load('en_core_web_sm')\n",
            "\u001b[38;5;2m✔ Linking successful\u001b[0m\n",
            "/usr/local/lib/python3.7/dist-packages/en_core_web_sm -->\n",
            "/usr/local/lib/python3.7/dist-packages/spacy/data/en\n",
            "You can now load the model via spacy.load('en')\n"
          ]
        }
      ],
      "source": [
        "!python -m spacy download en"
      ]
    },
    {
      "cell_type": "code",
      "execution_count": null,
      "id": "2d2d6683",
      "metadata": {
        "colab": {
          "base_uri": "https://localhost:8080/"
        },
        "id": "2d2d6683",
        "outputId": "db7a6e5c-0141-4145-d15e-6d8e602e5880"
      },
      "outputs": [
        {
          "output_type": "stream",
          "name": "stdout",
          "text": [
            "[nltk_data] Downloading package punkt to /root/nltk_data...\n",
            "[nltk_data]   Package punkt is already up-to-date!\n",
            "[nltk_data] Downloading package averaged_perceptron_tagger to\n",
            "[nltk_data]     /root/nltk_data...\n",
            "[nltk_data]   Package averaged_perceptron_tagger is already up-to-\n",
            "[nltk_data]       date!\n"
          ]
        }
      ],
      "source": [
        "from nltk.corpus import stopwords\n",
        "import nltk\n",
        "nltk.download('punkt')\n",
        "nltk.download('averaged_perceptron_tagger') \n",
        "import string\n",
        "from nltk import word_tokenize, pos_tag"
      ]
    },
    {
      "cell_type": "code",
      "execution_count": null,
      "id": "a902e8ab",
      "metadata": {
        "colab": {
          "base_uri": "https://localhost:8080/"
        },
        "id": "a902e8ab",
        "outputId": "03ca7e86-d82c-4f16-c50e-e19f5e6bdbbb"
      },
      "outputs": [
        {
          "output_type": "stream",
          "name": "stderr",
          "text": [
            "/usr/local/lib/python3.7/dist-packages/catalogue.py:138: DeprecationWarning: SelectableGroups dict interface is deprecated. Use select.\n",
            "  for entry_point in AVAILABLE_ENTRY_POINTS.get(self.entry_point_namespace, []):\n",
            "/usr/local/lib/python3.7/dist-packages/catalogue.py:138: DeprecationWarning: SelectableGroups dict interface is deprecated. Use select.\n",
            "  for entry_point in AVAILABLE_ENTRY_POINTS.get(self.entry_point_namespace, []):\n",
            "/usr/local/lib/python3.7/dist-packages/catalogue.py:126: DeprecationWarning: SelectableGroups dict interface is deprecated. Use select.\n",
            "  for entry_point in AVAILABLE_ENTRY_POINTS.get(self.entry_point_namespace, []):\n",
            "/usr/local/lib/python3.7/dist-packages/catalogue.py:138: DeprecationWarning: SelectableGroups dict interface is deprecated. Use select.\n",
            "  for entry_point in AVAILABLE_ENTRY_POINTS.get(self.entry_point_namespace, []):\n"
          ]
        }
      ],
      "source": [
        "#mallet_path = r'/content/drive/MyDrive/Research/mallet-2.0.8/bin/mallet/'\n",
        "stop_words = nltk.corpus.stopwords.words('english')\n",
        "nlp = spacy.load('en_core_web_sm', disable=['parser', 'ner'])"
      ]
    },
    {
      "cell_type": "code",
      "execution_count": null,
      "id": "8af01f9f",
      "metadata": {
        "id": "8af01f9f"
      },
      "outputs": [],
      "source": [
        "df = pd.read_csv(\"/content/drive/MyDrive/Research/Other datasets/df_en.csv\")\n",
        "df_en = df[:][df['lang'] == 'ENGLISH']\n",
        "df_en = df_en.reset_index(drop=True)\n",
        "#data = pd.read_json('Amazon_Instant_Video_5.json',lines=True)\n",
        "reviews_df = df_en\n",
        "reviews_text = df_en['preprocessed'].tolist()"
      ]
    },
    {
      "cell_type": "code",
      "source": [
        "reviews_df = reviews_df.dropna()\n",
        "print(len(reviews_df))"
      ],
      "metadata": {
        "id": "rUqKGab6F3-l",
        "colab": {
          "base_uri": "https://localhost:8080/"
        },
        "outputId": "f55555c5-0520-4bc3-c0d2-853fe15a3440"
      },
      "id": "rUqKGab6F3-l",
      "execution_count": null,
      "outputs": [
        {
          "output_type": "stream",
          "name": "stdout",
          "text": [
            "2794\n"
          ]
        }
      ]
    },
    {
      "cell_type": "code",
      "execution_count": null,
      "id": "3ca47ff5",
      "metadata": {
        "id": "3ca47ff5"
      },
      "outputs": [],
      "source": [
        "df_reviews= reviews_df\n",
        "# Create document-term matrix\n",
        "from sklearn.feature_extraction import text\n",
        "from sklearn.feature_extraction.text import CountVectorizer"
      ]
    },
    {
      "cell_type": "code",
      "execution_count": null,
      "id": "d93d2d7f",
      "metadata": {
        "id": "d93d2d7f"
      },
      "outputs": [],
      "source": [
        "# Let's create a function to pull out nouns from a string of text\n",
        "from nltk import word_tokenize, pos_tag\n",
        "\n",
        "def nouns(text):\n",
        "    '''Given a string of text, tokenize the text and pull out only the nouns.'''\n",
        "    is_noun = lambda pos: pos[:2] == 'NN' \n",
        "    is_adj = lambda pos: pos[:2] == 'ADJ' \n",
        "    tokenized = word_tokenize(text)\n",
        "    all_nouns = [word for (word, pos) in pos_tag(tokenized) if is_noun(pos) or is_adj(pos)] \n",
        "    return ' '.join(all_nouns)"
      ]
    },
    {
      "cell_type": "code",
      "source": [
        "\n",
        "len(df_reviews)"
      ],
      "metadata": {
        "colab": {
          "base_uri": "https://localhost:8080/"
        },
        "id": "OVvWSwa1F9TJ",
        "outputId": "6bad9861-ef72-4d97-e05b-c4f0e463a4c7"
      },
      "id": "OVvWSwa1F9TJ",
      "execution_count": null,
      "outputs": [
        {
          "output_type": "execute_result",
          "data": {
            "text/plain": [
              "2794"
            ]
          },
          "metadata": {},
          "execution_count": 11
        }
      ]
    },
    {
      "cell_type": "code",
      "source": [
        "df_reviews['review_ls'] = df_reviews['preprocessed'].apply(lambda x: x.split(\" \"))\n",
        "df_reviews.head()"
      ],
      "metadata": {
        "colab": {
          "base_uri": "https://localhost:8080/",
          "height": 318
        },
        "id": "90fneGEvpZYi",
        "outputId": "0ec31e41-2427-4a7c-b468-323f19a84f32"
      },
      "id": "90fneGEvpZYi",
      "execution_count": null,
      "outputs": [
        {
          "output_type": "stream",
          "name": "stderr",
          "text": [
            "/usr/local/lib/python3.7/dist-packages/ipykernel_launcher.py:1: SettingWithCopyWarning: \n",
            "A value is trying to be set on a copy of a slice from a DataFrame.\n",
            "Try using .loc[row_indexer,col_indexer] = value instead\n",
            "\n",
            "See the caveats in the documentation: https://pandas.pydata.org/pandas-docs/stable/user_guide/indexing.html#returning-a-view-versus-a-copy\n",
            "  \"\"\"Entry point for launching an IPython kernel.\n"
          ]
        },
        {
          "output_type": "execute_result",
          "data": {
            "text/html": [
              "\n",
              "  <div id=\"df-37c4ff2a-dd42-46e1-abd7-8909716bad58\">\n",
              "    <div class=\"colab-df-container\">\n",
              "      <div>\n",
              "<style scoped>\n",
              "    .dataframe tbody tr th:only-of-type {\n",
              "        vertical-align: middle;\n",
              "    }\n",
              "\n",
              "    .dataframe tbody tr th {\n",
              "        vertical-align: top;\n",
              "    }\n",
              "\n",
              "    .dataframe thead th {\n",
              "        text-align: right;\n",
              "    }\n",
              "</style>\n",
              "<table border=\"1\" class=\"dataframe\">\n",
              "  <thead>\n",
              "    <tr style=\"text-align: right;\">\n",
              "      <th></th>\n",
              "      <th>title</th>\n",
              "      <th>lang</th>\n",
              "      <th>preprocessed</th>\n",
              "      <th>review_ls</th>\n",
              "    </tr>\n",
              "  </thead>\n",
              "  <tbody>\n",
              "    <tr>\n",
              "      <th>0</th>\n",
              "      <td>Under Income Tax, all medical related deductio...</td>\n",
              "      <td>ENGLISH</td>\n",
              "      <td>income tax medical relate deductions club much...</td>\n",
              "      <td>[income, tax, medical, relate, deductions, clu...</td>\n",
              "    </tr>\n",
              "    <tr>\n",
              "      <th>1</th>\n",
              "      <td>Rental deduction and deduction towards own hou...</td>\n",
              "      <td>ENGLISH</td>\n",
              "      <td>rental deduction deduction towards house selfo...</td>\n",
              "      <td>[rental, deduction, deduction, towards, house,...</td>\n",
              "    </tr>\n",
              "    <tr>\n",
              "      <th>2</th>\n",
              "      <td>House Rent Income and interest expense to be t...</td>\n",
              "      <td>ENGLISH</td>\n",
              "      <td>house rent income interest expense treat separ...</td>\n",
              "      <td>[house, rent, income, interest, expense, treat...</td>\n",
              "    </tr>\n",
              "    <tr>\n",
              "      <th>3</th>\n",
              "      <td>The deductions and exemptions related to Housi...</td>\n",
              "      <td>ENGLISH</td>\n",
              "      <td>deductions exemptions relate house individuals...</td>\n",
              "      <td>[deductions, exemptions, relate, house, indivi...</td>\n",
              "    </tr>\n",
              "    <tr>\n",
              "      <th>4</th>\n",
              "      <td>Salaried people with an allowance \"named\" Hous...</td>\n",
              "      <td>ENGLISH</td>\n",
              "      <td>salaried people allowance name house rent allo...</td>\n",
              "      <td>[salaried, people, allowance, name, house, ren...</td>\n",
              "    </tr>\n",
              "  </tbody>\n",
              "</table>\n",
              "</div>\n",
              "      <button class=\"colab-df-convert\" onclick=\"convertToInteractive('df-37c4ff2a-dd42-46e1-abd7-8909716bad58')\"\n",
              "              title=\"Convert this dataframe to an interactive table.\"\n",
              "              style=\"display:none;\">\n",
              "        \n",
              "  <svg xmlns=\"http://www.w3.org/2000/svg\" height=\"24px\"viewBox=\"0 0 24 24\"\n",
              "       width=\"24px\">\n",
              "    <path d=\"M0 0h24v24H0V0z\" fill=\"none\"/>\n",
              "    <path d=\"M18.56 5.44l.94 2.06.94-2.06 2.06-.94-2.06-.94-.94-2.06-.94 2.06-2.06.94zm-11 1L8.5 8.5l.94-2.06 2.06-.94-2.06-.94L8.5 2.5l-.94 2.06-2.06.94zm10 10l.94 2.06.94-2.06 2.06-.94-2.06-.94-.94-2.06-.94 2.06-2.06.94z\"/><path d=\"M17.41 7.96l-1.37-1.37c-.4-.4-.92-.59-1.43-.59-.52 0-1.04.2-1.43.59L10.3 9.45l-7.72 7.72c-.78.78-.78 2.05 0 2.83L4 21.41c.39.39.9.59 1.41.59.51 0 1.02-.2 1.41-.59l7.78-7.78 2.81-2.81c.8-.78.8-2.07 0-2.86zM5.41 20L4 18.59l7.72-7.72 1.47 1.35L5.41 20z\"/>\n",
              "  </svg>\n",
              "      </button>\n",
              "      \n",
              "  <style>\n",
              "    .colab-df-container {\n",
              "      display:flex;\n",
              "      flex-wrap:wrap;\n",
              "      gap: 12px;\n",
              "    }\n",
              "\n",
              "    .colab-df-convert {\n",
              "      background-color: #E8F0FE;\n",
              "      border: none;\n",
              "      border-radius: 50%;\n",
              "      cursor: pointer;\n",
              "      display: none;\n",
              "      fill: #1967D2;\n",
              "      height: 32px;\n",
              "      padding: 0 0 0 0;\n",
              "      width: 32px;\n",
              "    }\n",
              "\n",
              "    .colab-df-convert:hover {\n",
              "      background-color: #E2EBFA;\n",
              "      box-shadow: 0px 1px 2px rgba(60, 64, 67, 0.3), 0px 1px 3px 1px rgba(60, 64, 67, 0.15);\n",
              "      fill: #174EA6;\n",
              "    }\n",
              "\n",
              "    [theme=dark] .colab-df-convert {\n",
              "      background-color: #3B4455;\n",
              "      fill: #D2E3FC;\n",
              "    }\n",
              "\n",
              "    [theme=dark] .colab-df-convert:hover {\n",
              "      background-color: #434B5C;\n",
              "      box-shadow: 0px 1px 3px 1px rgba(0, 0, 0, 0.15);\n",
              "      filter: drop-shadow(0px 1px 2px rgba(0, 0, 0, 0.3));\n",
              "      fill: #FFFFFF;\n",
              "    }\n",
              "  </style>\n",
              "\n",
              "      <script>\n",
              "        const buttonEl =\n",
              "          document.querySelector('#df-37c4ff2a-dd42-46e1-abd7-8909716bad58 button.colab-df-convert');\n",
              "        buttonEl.style.display =\n",
              "          google.colab.kernel.accessAllowed ? 'block' : 'none';\n",
              "\n",
              "        async function convertToInteractive(key) {\n",
              "          const element = document.querySelector('#df-37c4ff2a-dd42-46e1-abd7-8909716bad58');\n",
              "          const dataTable =\n",
              "            await google.colab.kernel.invokeFunction('convertToInteractive',\n",
              "                                                     [key], {});\n",
              "          if (!dataTable) return;\n",
              "\n",
              "          const docLinkHtml = 'Like what you see? Visit the ' +\n",
              "            '<a target=\"_blank\" href=https://colab.research.google.com/notebooks/data_table.ipynb>data table notebook</a>'\n",
              "            + ' to learn more about interactive tables.';\n",
              "          element.innerHTML = '';\n",
              "          dataTable['output_type'] = 'display_data';\n",
              "          await google.colab.output.renderOutput(dataTable, element);\n",
              "          const docLink = document.createElement('div');\n",
              "          docLink.innerHTML = docLinkHtml;\n",
              "          element.appendChild(docLink);\n",
              "        }\n",
              "      </script>\n",
              "    </div>\n",
              "  </div>\n",
              "  "
            ],
            "text/plain": [
              "                                               title  ...                                          review_ls\n",
              "0  Under Income Tax, all medical related deductio...  ...  [income, tax, medical, relate, deductions, clu...\n",
              "1  Rental deduction and deduction towards own hou...  ...  [rental, deduction, deduction, towards, house,...\n",
              "2  House Rent Income and interest expense to be t...  ...  [house, rent, income, interest, expense, treat...\n",
              "3  The deductions and exemptions related to Housi...  ...  [deductions, exemptions, relate, house, indivi...\n",
              "4  Salaried people with an allowance \"named\" Hous...  ...  [salaried, people, allowance, name, house, ren...\n",
              "\n",
              "[5 rows x 4 columns]"
            ]
          },
          "metadata": {},
          "execution_count": 12
        }
      ]
    },
    {
      "cell_type": "code",
      "source": [
        "import itertools\n",
        "reviews = df_reviews['review_ls']\n",
        "print(\"Total reviews: \", len(reviews))\n",
        "reviews = list(itertools.chain(*reviews))\n",
        "print(\"Total words in reviews:\", len(reviews))"
      ],
      "metadata": {
        "colab": {
          "base_uri": "https://localhost:8080/"
        },
        "id": "H4sHfyFcp_1k",
        "outputId": "00aaffc5-ea3a-4270-a371-581eee3ccf74"
      },
      "id": "H4sHfyFcp_1k",
      "execution_count": null,
      "outputs": [
        {
          "output_type": "stream",
          "name": "stdout",
          "text": [
            "Total reviews:  2794\n",
            "Total words in reviews: 32934\n"
          ]
        }
      ]
    },
    {
      "cell_type": "code",
      "source": [
        "stopwords_ls = list(set(stopwords.words(\"english\")))\n",
        "reviews = [word for word in reviews if word not in stopwords_ls]"
      ],
      "metadata": {
        "id": "xmbwmpN5rniS"
      },
      "id": "xmbwmpN5rniS",
      "execution_count": null,
      "outputs": []
    },
    {
      "cell_type": "code",
      "source": [
        "print(\"After stopwords removal\",len(reviews))"
      ],
      "metadata": {
        "colab": {
          "base_uri": "https://localhost:8080/"
        },
        "id": "WzVal18Ksaef",
        "outputId": "220609de-3bca-49c8-d4be-9481704a9c0c"
      },
      "id": "WzVal18Ksaef",
      "execution_count": null,
      "outputs": [
        {
          "output_type": "stream",
          "name": "stdout",
          "text": [
            "After stopwords removal 32496\n"
          ]
        }
      ]
    },
    {
      "cell_type": "code",
      "source": [
        "import collections\n",
        "words_frequency = collections.Counter(reviews)\n",
        "# top 10 most frequent words in reviews\n",
        "print(\"Most common positive words:\", words_frequency.most_common(30))\n"
      ],
      "metadata": {
        "colab": {
          "base_uri": "https://localhost:8080/"
        },
        "id": "l_iyOKaTrKcl",
        "outputId": "ca7297fa-eca8-41be-adfe-01b3910a012f"
      },
      "id": "l_iyOKaTrKcl",
      "execution_count": null,
      "outputs": [
        {
          "output_type": "stream",
          "name": "stdout",
          "text": [
            "Most common positive words: [('tax', 623), ('government', 353), ('increase', 265), ('income', 246), ('india', 230), ('make', 218), ('people', 214), ('budget', 204), ('also', 197), ('give', 196), ('like', 177), ('please', 174), ('get', 163), ('pay', 155), ('need', 144), ('reduce', 125), ('one', 121), ('gst', 121), ('limit', 120), ('money', 120), ('would', 110), ('help', 107), ('scheme', 105), ('request', 104), ('provide', 103), ('bank', 102), ('work', 101), ('take', 98), ('country', 98), ('interest', 94)]\n"
          ]
        }
      ]
    },
    {
      "cell_type": "code",
      "source": [
        "freq_words_df = pd.DataFrame(words_frequency.most_common(15),\n",
        "                                     columns=[\"Word\", \"Frequency\"])\n",
        "print(freq_words_df)"
      ],
      "metadata": {
        "colab": {
          "base_uri": "https://localhost:8080/"
        },
        "id": "YIlpEZIGtXe7",
        "outputId": "a1390a4d-ac9d-4d7c-964d-fd0777e21b5a"
      },
      "id": "YIlpEZIGtXe7",
      "execution_count": null,
      "outputs": [
        {
          "output_type": "stream",
          "name": "stdout",
          "text": [
            "          Word  Frequency\n",
            "0          tax        623\n",
            "1   government        353\n",
            "2     increase        265\n",
            "3       income        246\n",
            "4        india        230\n",
            "5         make        218\n",
            "6       people        214\n",
            "7       budget        204\n",
            "8         also        197\n",
            "9         give        196\n",
            "10        like        177\n",
            "11      please        174\n",
            "12         get        163\n",
            "13         pay        155\n",
            "14        need        144\n"
          ]
        }
      ]
    },
    {
      "cell_type": "code",
      "source": [
        "new_stop = list(freq_words_df['Word'])"
      ],
      "metadata": {
        "id": "rOkHbMaXuohl"
      },
      "id": "rOkHbMaXuohl",
      "execution_count": null,
      "outputs": []
    },
    {
      "cell_type": "code",
      "source": [
        "add_stop_words = ['like', 'im', 'know', 'just', 'dont', 'thats', 'right', 'people','country'\n",
        "                  'youre', 'got', 'gonna', 'time', 'think', 'yeah', 'said', 'please']                "
      ],
      "metadata": {
        "id": "GWNpW_U_OCdy"
      },
      "id": "GWNpW_U_OCdy",
      "execution_count": null,
      "outputs": []
    },
    {
      "cell_type": "code",
      "source": [
        "stopwords_ls = list(set(stopwords.words(\"english\")))\n",
        "stopwords_ls.extend(new_stop)\n",
        "stopwords_ls.extend(add_stop_words)\n",
        "reviews = [word for word in reviews if word not in stopwords_ls]\n",
        "print(len(reviews))"
      ],
      "metadata": {
        "colab": {
          "base_uri": "https://localhost:8080/"
        },
        "id": "zfxnJdRZuTaj",
        "outputId": "4afadb49-6988-46a2-9865-0555462f2fd2"
      },
      "id": "zfxnJdRZuTaj",
      "execution_count": null,
      "outputs": [
        {
          "output_type": "stream",
          "name": "stdout",
          "text": [
            "28721\n"
          ]
        }
      ]
    },
    {
      "cell_type": "code",
      "source": [
        "clean_list = []\n",
        "for tokens in df_reviews['review_ls']:\n",
        "  clean = []\n",
        "  for word in tokens:\n",
        "    if word not in stopwords_ls:\n",
        "      clean.append(word)\n",
        "    #print(clean)\n",
        "  clean_list.append(clean)"
      ],
      "metadata": {
        "id": "A4H1jEe31S3-"
      },
      "id": "A4H1jEe31S3-",
      "execution_count": null,
      "outputs": []
    },
    {
      "cell_type": "code",
      "source": [
        "df_reviews['cleaned_tokens'] = clean_list\n",
        "import itertools\n",
        "reviews = df_reviews['cleaned_tokens']\n",
        "print(\"Total reviews: \", len(reviews))\n",
        "reviews = list(itertools.chain(*reviews))\n",
        "print(\"Total words in reviews:\", len(reviews))"
      ],
      "metadata": {
        "colab": {
          "base_uri": "https://localhost:8080/"
        },
        "id": "IzzFeqow1vCV",
        "outputId": "8c7788b4-688c-4056-891e-9dd1ab010a4d"
      },
      "id": "IzzFeqow1vCV",
      "execution_count": null,
      "outputs": [
        {
          "output_type": "stream",
          "name": "stdout",
          "text": [
            "Total reviews:  2794\n",
            "Total words in reviews: 28721\n"
          ]
        },
        {
          "output_type": "stream",
          "name": "stderr",
          "text": [
            "/usr/local/lib/python3.7/dist-packages/ipykernel_launcher.py:1: SettingWithCopyWarning: \n",
            "A value is trying to be set on a copy of a slice from a DataFrame.\n",
            "Try using .loc[row_indexer,col_indexer] = value instead\n",
            "\n",
            "See the caveats in the documentation: https://pandas.pydata.org/pandas-docs/stable/user_guide/indexing.html#returning-a-view-versus-a-copy\n",
            "  \"\"\"Entry point for launching an IPython kernel.\n"
          ]
        }
      ]
    },
    {
      "cell_type": "code",
      "source": [
        "df_reviews = df_reviews.dropna()\n",
        "df_reviews = df_reviews.reset_index(drop=True)\n",
        "len(df_reviews)"
      ],
      "metadata": {
        "colab": {
          "base_uri": "https://localhost:8080/"
        },
        "id": "gMlyGMk32Efb",
        "outputId": "75fd3075-144c-4885-bb17-fc87007964c9"
      },
      "id": "gMlyGMk32Efb",
      "execution_count": null,
      "outputs": [
        {
          "output_type": "execute_result",
          "data": {
            "text/plain": [
              "2794"
            ]
          },
          "metadata": {},
          "execution_count": 23
        }
      ]
    },
    {
      "cell_type": "code",
      "source": [
        "sent = []\n",
        "for tokens in df_reviews['cleaned_tokens']:\n",
        "  listToStr = ' '.join(map(str, tokens))\n",
        "  sent.append(listToStr)"
      ],
      "metadata": {
        "id": "B1wcS7s66WRJ"
      },
      "id": "B1wcS7s66WRJ",
      "execution_count": null,
      "outputs": []
    },
    {
      "cell_type": "code",
      "source": [
        "df_reviews['cleaned_sentences'] = sent"
      ],
      "metadata": {
        "id": "eKuc4Lv46nO9"
      },
      "id": "eKuc4Lv46nO9",
      "execution_count": null,
      "outputs": []
    },
    {
      "cell_type": "code",
      "execution_count": null,
      "id": "37e47ad1",
      "metadata": {
        "id": "37e47ad1"
      },
      "outputs": [],
      "source": [
        "data_nouns = pd.DataFrame(df_reviews.preprocessed.apply(nouns))"
      ]
    },
    {
      "cell_type": "code",
      "source": [
        "len(stopwords_ls)"
      ],
      "metadata": {
        "colab": {
          "base_uri": "https://localhost:8080/"
        },
        "id": "YecZrBr3Of0Z",
        "outputId": "cc7e59ef-88f0-4eda-b69c-610aef9b5088"
      },
      "id": "YecZrBr3Of0Z",
      "execution_count": null,
      "outputs": [
        {
          "output_type": "execute_result",
          "data": {
            "text/plain": [
              "210"
            ]
          },
          "metadata": {},
          "execution_count": 27
        }
      ]
    },
    {
      "cell_type": "code",
      "execution_count": null,
      "id": "66e365b4",
      "metadata": {
        "id": "66e365b4"
      },
      "outputs": [],
      "source": [
        "# Re-add the additional stop words since we are recreating the document-term matrix\n",
        "add_stop_words = ['like', 'im', 'know', 'just', 'dont', 'thats', 'right', 'people','country'\n",
        "                  'youre', 'got', 'gonna', 'time', 'think', 'yeah', 'said', 'please']                  \n",
        "#stop_words = text.ENGLISH_STOP_WORDS.union(c)\n",
        "stop_words = text.ENGLISH_STOP_WORDS.union(add_stop_words)"
      ]
    },
    {
      "cell_type": "code",
      "source": [
        "data_nouns"
      ],
      "metadata": {
        "colab": {
          "base_uri": "https://localhost:8080/",
          "height": 424
        },
        "id": "YyhbE6qw4Ln0",
        "outputId": "e502fbf9-5332-4b1d-f896-f4779d4e5a0c"
      },
      "id": "YyhbE6qw4Ln0",
      "execution_count": null,
      "outputs": [
        {
          "output_type": "execute_result",
          "data": {
            "text/html": [
              "\n",
              "  <div id=\"df-c4e1ff1e-26d7-42f4-acfb-d1d07cb0aa4f\">\n",
              "    <div class=\"colab-df-container\">\n",
              "      <div>\n",
              "<style scoped>\n",
              "    .dataframe tbody tr th:only-of-type {\n",
              "        vertical-align: middle;\n",
              "    }\n",
              "\n",
              "    .dataframe tbody tr th {\n",
              "        vertical-align: top;\n",
              "    }\n",
              "\n",
              "    .dataframe thead th {\n",
              "        text-align: right;\n",
              "    }\n",
              "</style>\n",
              "<table border=\"1\" class=\"dataframe\">\n",
              "  <thead>\n",
              "    <tr style=\"text-align: right;\">\n",
              "      <th></th>\n",
              "      <th>preprocessed</th>\n",
              "    </tr>\n",
              "  </thead>\n",
              "  <tbody>\n",
              "    <tr>\n",
              "      <th>0</th>\n",
              "      <td>income tax relate deductions limit</td>\n",
              "    </tr>\n",
              "    <tr>\n",
              "      <th>1</th>\n",
              "      <td>deduction deduction towards house selfoccupati...</td>\n",
              "    </tr>\n",
              "    <tr>\n",
              "      <th>2</th>\n",
              "      <td>house income interest expense treat section</td>\n",
              "    </tr>\n",
              "    <tr>\n",
              "      <th>3</th>\n",
              "      <td>deductions exemptions house individuals sectio...</td>\n",
              "    </tr>\n",
              "    <tr>\n",
              "      <th>4</th>\n",
              "      <td>people name house rent allowance section regar...</td>\n",
              "    </tr>\n",
              "    <tr>\n",
              "      <th>...</th>\n",
              "      <td>...</td>\n",
              "    </tr>\n",
              "    <tr>\n",
              "      <th>2789</th>\n",
              "      <td>accord opinion revise years</td>\n",
              "    </tr>\n",
              "    <tr>\n",
              "      <th>2790</th>\n",
              "      <td>rise price band people position express feel</td>\n",
              "    </tr>\n",
              "    <tr>\n",
              "      <th>2791</th>\n",
              "      <td>government matter</td>\n",
              "    </tr>\n",
              "    <tr>\n",
              "      <th>2792</th>\n",
              "      <td>ignore message</td>\n",
              "    </tr>\n",
              "    <tr>\n",
              "      <th>2793</th>\n",
              "      <td>think labour</td>\n",
              "    </tr>\n",
              "  </tbody>\n",
              "</table>\n",
              "<p>2794 rows × 1 columns</p>\n",
              "</div>\n",
              "      <button class=\"colab-df-convert\" onclick=\"convertToInteractive('df-c4e1ff1e-26d7-42f4-acfb-d1d07cb0aa4f')\"\n",
              "              title=\"Convert this dataframe to an interactive table.\"\n",
              "              style=\"display:none;\">\n",
              "        \n",
              "  <svg xmlns=\"http://www.w3.org/2000/svg\" height=\"24px\"viewBox=\"0 0 24 24\"\n",
              "       width=\"24px\">\n",
              "    <path d=\"M0 0h24v24H0V0z\" fill=\"none\"/>\n",
              "    <path d=\"M18.56 5.44l.94 2.06.94-2.06 2.06-.94-2.06-.94-.94-2.06-.94 2.06-2.06.94zm-11 1L8.5 8.5l.94-2.06 2.06-.94-2.06-.94L8.5 2.5l-.94 2.06-2.06.94zm10 10l.94 2.06.94-2.06 2.06-.94-2.06-.94-.94-2.06-.94 2.06-2.06.94z\"/><path d=\"M17.41 7.96l-1.37-1.37c-.4-.4-.92-.59-1.43-.59-.52 0-1.04.2-1.43.59L10.3 9.45l-7.72 7.72c-.78.78-.78 2.05 0 2.83L4 21.41c.39.39.9.59 1.41.59.51 0 1.02-.2 1.41-.59l7.78-7.78 2.81-2.81c.8-.78.8-2.07 0-2.86zM5.41 20L4 18.59l7.72-7.72 1.47 1.35L5.41 20z\"/>\n",
              "  </svg>\n",
              "      </button>\n",
              "      \n",
              "  <style>\n",
              "    .colab-df-container {\n",
              "      display:flex;\n",
              "      flex-wrap:wrap;\n",
              "      gap: 12px;\n",
              "    }\n",
              "\n",
              "    .colab-df-convert {\n",
              "      background-color: #E8F0FE;\n",
              "      border: none;\n",
              "      border-radius: 50%;\n",
              "      cursor: pointer;\n",
              "      display: none;\n",
              "      fill: #1967D2;\n",
              "      height: 32px;\n",
              "      padding: 0 0 0 0;\n",
              "      width: 32px;\n",
              "    }\n",
              "\n",
              "    .colab-df-convert:hover {\n",
              "      background-color: #E2EBFA;\n",
              "      box-shadow: 0px 1px 2px rgba(60, 64, 67, 0.3), 0px 1px 3px 1px rgba(60, 64, 67, 0.15);\n",
              "      fill: #174EA6;\n",
              "    }\n",
              "\n",
              "    [theme=dark] .colab-df-convert {\n",
              "      background-color: #3B4455;\n",
              "      fill: #D2E3FC;\n",
              "    }\n",
              "\n",
              "    [theme=dark] .colab-df-convert:hover {\n",
              "      background-color: #434B5C;\n",
              "      box-shadow: 0px 1px 3px 1px rgba(0, 0, 0, 0.15);\n",
              "      filter: drop-shadow(0px 1px 2px rgba(0, 0, 0, 0.3));\n",
              "      fill: #FFFFFF;\n",
              "    }\n",
              "  </style>\n",
              "\n",
              "      <script>\n",
              "        const buttonEl =\n",
              "          document.querySelector('#df-c4e1ff1e-26d7-42f4-acfb-d1d07cb0aa4f button.colab-df-convert');\n",
              "        buttonEl.style.display =\n",
              "          google.colab.kernel.accessAllowed ? 'block' : 'none';\n",
              "\n",
              "        async function convertToInteractive(key) {\n",
              "          const element = document.querySelector('#df-c4e1ff1e-26d7-42f4-acfb-d1d07cb0aa4f');\n",
              "          const dataTable =\n",
              "            await google.colab.kernel.invokeFunction('convertToInteractive',\n",
              "                                                     [key], {});\n",
              "          if (!dataTable) return;\n",
              "\n",
              "          const docLinkHtml = 'Like what you see? Visit the ' +\n",
              "            '<a target=\"_blank\" href=https://colab.research.google.com/notebooks/data_table.ipynb>data table notebook</a>'\n",
              "            + ' to learn more about interactive tables.';\n",
              "          element.innerHTML = '';\n",
              "          dataTable['output_type'] = 'display_data';\n",
              "          await google.colab.output.renderOutput(dataTable, element);\n",
              "          const docLink = document.createElement('div');\n",
              "          docLink.innerHTML = docLinkHtml;\n",
              "          element.appendChild(docLink);\n",
              "        }\n",
              "      </script>\n",
              "    </div>\n",
              "  </div>\n",
              "  "
            ],
            "text/plain": [
              "                                           preprocessed\n",
              "0                    income tax relate deductions limit\n",
              "1     deduction deduction towards house selfoccupati...\n",
              "2           house income interest expense treat section\n",
              "3     deductions exemptions house individuals sectio...\n",
              "4     people name house rent allowance section regar...\n",
              "...                                                 ...\n",
              "2789                        accord opinion revise years\n",
              "2790       rise price band people position express feel\n",
              "2791                                  government matter\n",
              "2792                                     ignore message\n",
              "2793                                       think labour\n",
              "\n",
              "[2794 rows x 1 columns]"
            ]
          },
          "metadata": {},
          "execution_count": 29
        }
      ]
    },
    {
      "cell_type": "code",
      "execution_count": null,
      "id": "807983bd",
      "metadata": {
        "colab": {
          "base_uri": "https://localhost:8080/"
        },
        "id": "807983bd",
        "outputId": "8c89d712-6379-4859-e681-e65fdaa2d7a9"
      },
      "outputs": [
        {
          "output_type": "stream",
          "name": "stderr",
          "text": [
            "/usr/local/lib/python3.7/dist-packages/sklearn/utils/deprecation.py:87: FutureWarning: Function get_feature_names is deprecated; get_feature_names is deprecated in 1.0 and will be removed in 1.2. Please use get_feature_names_out instead.\n",
            "  warnings.warn(msg, category=FutureWarning)\n"
          ]
        }
      ],
      "source": [
        "cv = CountVectorizer(stop_words=stopwords_ls)\n",
        "data_cv = cv.fit_transform(data_nouns.preprocessed)\n",
        "data_stop = pd.DataFrame(data_cv.toarray(), columns=cv.get_feature_names())\n",
        "data_stop.index = df_reviews.index"
      ]
    },
    {
      "cell_type": "code",
      "execution_count": null,
      "id": "46a40dbb",
      "metadata": {
        "id": "46a40dbb"
      },
      "outputs": [],
      "source": [
        "import pickle\n",
        "pickle.dump(cv, open(\"cv_stop.pkl\", \"wb\"))\n",
        "data_stop.to_pickle(\"dtm_stop.pkl\")\n"
      ]
    },
    {
      "cell_type": "code",
      "execution_count": null,
      "id": "9abd5807",
      "metadata": {
        "id": "9abd5807"
      },
      "outputs": [],
      "source": [
        "import pandas as pd\n",
        "import pickle\n",
        "\n",
        "data = pd.read_pickle('dtm_stop.pkl')\n",
        "\n",
        "from gensim import matutils, models\n",
        "import scipy.sparse\n",
        "\n",
        "tdm = data.transpose()\n",
        "#tdm.head()"
      ]
    },
    {
      "cell_type": "code",
      "execution_count": null,
      "id": "358b3c81",
      "metadata": {
        "id": "358b3c81"
      },
      "outputs": [],
      "source": [
        "sparse_counts = scipy.sparse.csr_matrix(tdm)\n",
        "corpus = matutils.Sparse2Corpus(sparse_counts)\n",
        "\n",
        "# Gensim also requires dictionary of the all terms and their respective location in the term-document matrix\n",
        "cv = pickle.load(open(\"cv_stop.pkl\", \"rb\"))\n",
        "id2word = dict((v, k) for k, v in cv.vocabulary_.items())"
      ]
    },
    {
      "cell_type": "code",
      "execution_count": null,
      "id": "cb34a1bd",
      "metadata": {
        "id": "cb34a1bd"
      },
      "outputs": [],
      "source": [
        "# One of the required inputs is a term-document matrix\n",
        "tdm = data.transpose()\n",
        "#tdm.head()"
      ]
    },
    {
      "cell_type": "code",
      "execution_count": null,
      "id": "01441178",
      "metadata": {
        "id": "01441178"
      },
      "outputs": [],
      "source": [
        "sparse_counts = scipy.sparse.csr_matrix(tdm)\n",
        "corpus = matutils.Sparse2Corpus(sparse_counts)"
      ]
    },
    {
      "cell_type": "code",
      "execution_count": null,
      "id": "aa92c9d3",
      "metadata": {
        "id": "aa92c9d3"
      },
      "outputs": [],
      "source": [
        "# Gensim also requires dictionary of the all terms and their respective location in the term-document matrix\n",
        "from gensim import corpora\n",
        "cv = pickle.load(open(\"cv_stop.pkl\", \"rb\"))\n",
        "word2id = dict((v, k) for k, v in cv.vocabulary_.items())\n",
        "d = corpora.Dictionary()\n",
        "d.id2token = id2word\n",
        "d.token2id = word2id"
      ]
    },
    {
      "cell_type": "code",
      "source": [
        "#!pip uninstall gensim"
      ],
      "metadata": {
        "id": "QdvllaKOUrB9"
      },
      "id": "QdvllaKOUrB9",
      "execution_count": null,
      "outputs": []
    },
    {
      "cell_type": "code",
      "source": [
        "!pip install gensim==3.8.3"
      ],
      "metadata": {
        "colab": {
          "base_uri": "https://localhost:8080/"
        },
        "id": "X7BbWlIXUt45",
        "outputId": "51bd5c72-491a-458c-ad81-1bb27ff83624"
      },
      "id": "X7BbWlIXUt45",
      "execution_count": null,
      "outputs": [
        {
          "output_type": "stream",
          "name": "stdout",
          "text": [
            "Requirement already satisfied: gensim==3.8.3 in /usr/local/lib/python3.7/dist-packages (3.8.3)\n",
            "Requirement already satisfied: numpy>=1.11.3 in /usr/local/lib/python3.7/dist-packages (from gensim==3.8.3) (1.21.5)\n",
            "Requirement already satisfied: six>=1.5.0 in /usr/local/lib/python3.7/dist-packages (from gensim==3.8.3) (1.15.0)\n",
            "Requirement already satisfied: smart-open>=1.8.1 in /usr/local/lib/python3.7/dist-packages (from gensim==3.8.3) (5.2.1)\n",
            "Requirement already satisfied: scipy>=0.18.1 in /usr/local/lib/python3.7/dist-packages (from gensim==3.8.3) (1.4.1)\n"
          ]
        }
      ]
    },
    {
      "cell_type": "code",
      "execution_count": null,
      "id": "e6ed77a1",
      "metadata": {
        "id": "e6ed77a1"
      },
      "outputs": [],
      "source": [
        "# Now that we have the corpus (term-document matrix) and id2word (dictionary of location: term),\n",
        "# we need to specify two other parameters as well - the number of topics and the number of passes\n",
        "lda = models.LdaModel(corpus=corpus, id2word=id2word, num_topics=3)\n",
        "#lda.print_topics()"
      ]
    },
    {
      "cell_type": "code",
      "execution_count": null,
      "id": "1f49b2f9",
      "metadata": {
        "colab": {
          "base_uri": "https://localhost:8080/",
          "height": 581
        },
        "id": "1f49b2f9",
        "outputId": "733eb860-e823-4216-a12e-3eee4f92115d"
      },
      "outputs": [
        {
          "output_type": "execute_result",
          "data": {
            "text/html": [
              "\n",
              "  <div id=\"df-2b4e418b-7d5c-4a9c-a825-638575f2b871\">\n",
              "    <div class=\"colab-df-container\">\n",
              "      <div>\n",
              "<style scoped>\n",
              "    .dataframe tbody tr th:only-of-type {\n",
              "        vertical-align: middle;\n",
              "    }\n",
              "\n",
              "    .dataframe tbody tr th {\n",
              "        vertical-align: top;\n",
              "    }\n",
              "\n",
              "    .dataframe thead th {\n",
              "        text-align: right;\n",
              "    }\n",
              "</style>\n",
              "<table border=\"1\" class=\"dataframe\">\n",
              "  <thead>\n",
              "    <tr style=\"text-align: right;\">\n",
              "      <th></th>\n",
              "      <th>Document_No</th>\n",
              "      <th>Dominant_Topic</th>\n",
              "      <th>Topic_Perc_Contrib</th>\n",
              "      <th>Keywords</th>\n",
              "      <th>Text</th>\n",
              "    </tr>\n",
              "  </thead>\n",
              "  <tbody>\n",
              "    <tr>\n",
              "      <th>0</th>\n",
              "      <td>0</td>\n",
              "      <td>1.0</td>\n",
              "      <td>0.8237</td>\n",
              "      <td>interest, limit, amount, country, job, bank, money, scheme, citizens, help</td>\n",
              "      <td>Under Income Tax, all medical related deductions to be clubbed with a much higher overall limit.</td>\n",
              "    </tr>\n",
              "    <tr>\n",
              "      <th>1</th>\n",
              "      <td>1</td>\n",
              "      <td>1.0</td>\n",
              "      <td>0.9123</td>\n",
              "      <td>interest, limit, amount, country, job, bank, money, scheme, citizens, help</td>\n",
              "      <td>Rental deduction and deduction towards own housing for self-occupation should be clubbed and giv...</td>\n",
              "    </tr>\n",
              "    <tr>\n",
              "      <th>2</th>\n",
              "      <td>2</td>\n",
              "      <td>1.0</td>\n",
              "      <td>0.8781</td>\n",
              "      <td>interest, limit, amount, country, job, bank, money, scheme, citizens, help</td>\n",
              "      <td>House Rent Income and interest expense to be treated separately in the existing section.</td>\n",
              "    </tr>\n",
              "    <tr>\n",
              "      <th>3</th>\n",
              "      <td>3</td>\n",
              "      <td>1.0</td>\n",
              "      <td>0.8949</td>\n",
              "      <td>interest, limit, amount, country, job, bank, money, scheme, citizens, help</td>\n",
              "      <td>The deductions and exemptions related to Housing for Individuals are spread across many sections...</td>\n",
              "    </tr>\n",
              "    <tr>\n",
              "      <th>4</th>\n",
              "      <td>4</td>\n",
              "      <td>0.0</td>\n",
              "      <td>0.9196</td>\n",
              "      <td>fund, work, cost, train, sport, home, gst, company, fee, water</td>\n",
              "      <td>Salaried people with an allowance \"named\" House Rent Allowance get an exemption under Section 10...</td>\n",
              "    </tr>\n",
              "    <tr>\n",
              "      <th>5</th>\n",
              "      <td>5</td>\n",
              "      <td>0.0</td>\n",
              "      <td>0.8843</td>\n",
              "      <td>fund, work, cost, train, sport, home, gst, company, fee, water</td>\n",
              "      <td>Others who do not get a House Rent Allowance get a deduction under Section 80GG for the same.</td>\n",
              "    </tr>\n",
              "    <tr>\n",
              "      <th>6</th>\n",
              "      <td>6</td>\n",
              "      <td>1.0</td>\n",
              "      <td>0.8990</td>\n",
              "      <td>interest, limit, amount, country, job, bank, money, scheme, citizens, help</td>\n",
              "      <td>Those who buy or build a house or repay housing loan principal get a deduction under section 80C...</td>\n",
              "    </tr>\n",
              "    <tr>\n",
              "      <th>7</th>\n",
              "      <td>7</td>\n",
              "      <td>1.0</td>\n",
              "      <td>0.8485</td>\n",
              "      <td>interest, limit, amount, country, job, bank, money, scheme, citizens, help</td>\n",
              "      <td>(There is another section on affordable housing but that is specific to first time house owners ...</td>\n",
              "    </tr>\n",
              "    <tr>\n",
              "      <th>8</th>\n",
              "      <td>8</td>\n",
              "      <td>1.0</td>\n",
              "      <td>0.8458</td>\n",
              "      <td>interest, limit, amount, country, job, bank, money, scheme, citizens, help</td>\n",
              "      <td>Interest paid on housing loan is deductible under Section 24.</td>\n",
              "    </tr>\n",
              "    <tr>\n",
              "      <th>9</th>\n",
              "      <td>9</td>\n",
              "      <td>1.0</td>\n",
              "      <td>0.9231</td>\n",
              "      <td>interest, limit, amount, country, job, bank, money, scheme, citizens, help</td>\n",
              "      <td>All deductions related to self-occupied housing - either owned or rented - should ideally be clu...</td>\n",
              "    </tr>\n",
              "  </tbody>\n",
              "</table>\n",
              "</div>\n",
              "      <button class=\"colab-df-convert\" onclick=\"convertToInteractive('df-2b4e418b-7d5c-4a9c-a825-638575f2b871')\"\n",
              "              title=\"Convert this dataframe to an interactive table.\"\n",
              "              style=\"display:none;\">\n",
              "        \n",
              "  <svg xmlns=\"http://www.w3.org/2000/svg\" height=\"24px\"viewBox=\"0 0 24 24\"\n",
              "       width=\"24px\">\n",
              "    <path d=\"M0 0h24v24H0V0z\" fill=\"none\"/>\n",
              "    <path d=\"M18.56 5.44l.94 2.06.94-2.06 2.06-.94-2.06-.94-.94-2.06-.94 2.06-2.06.94zm-11 1L8.5 8.5l.94-2.06 2.06-.94-2.06-.94L8.5 2.5l-.94 2.06-2.06.94zm10 10l.94 2.06.94-2.06 2.06-.94-2.06-.94-.94-2.06-.94 2.06-2.06.94z\"/><path d=\"M17.41 7.96l-1.37-1.37c-.4-.4-.92-.59-1.43-.59-.52 0-1.04.2-1.43.59L10.3 9.45l-7.72 7.72c-.78.78-.78 2.05 0 2.83L4 21.41c.39.39.9.59 1.41.59.51 0 1.02-.2 1.41-.59l7.78-7.78 2.81-2.81c.8-.78.8-2.07 0-2.86zM5.41 20L4 18.59l7.72-7.72 1.47 1.35L5.41 20z\"/>\n",
              "  </svg>\n",
              "      </button>\n",
              "      \n",
              "  <style>\n",
              "    .colab-df-container {\n",
              "      display:flex;\n",
              "      flex-wrap:wrap;\n",
              "      gap: 12px;\n",
              "    }\n",
              "\n",
              "    .colab-df-convert {\n",
              "      background-color: #E8F0FE;\n",
              "      border: none;\n",
              "      border-radius: 50%;\n",
              "      cursor: pointer;\n",
              "      display: none;\n",
              "      fill: #1967D2;\n",
              "      height: 32px;\n",
              "      padding: 0 0 0 0;\n",
              "      width: 32px;\n",
              "    }\n",
              "\n",
              "    .colab-df-convert:hover {\n",
              "      background-color: #E2EBFA;\n",
              "      box-shadow: 0px 1px 2px rgba(60, 64, 67, 0.3), 0px 1px 3px 1px rgba(60, 64, 67, 0.15);\n",
              "      fill: #174EA6;\n",
              "    }\n",
              "\n",
              "    [theme=dark] .colab-df-convert {\n",
              "      background-color: #3B4455;\n",
              "      fill: #D2E3FC;\n",
              "    }\n",
              "\n",
              "    [theme=dark] .colab-df-convert:hover {\n",
              "      background-color: #434B5C;\n",
              "      box-shadow: 0px 1px 3px 1px rgba(0, 0, 0, 0.15);\n",
              "      filter: drop-shadow(0px 1px 2px rgba(0, 0, 0, 0.3));\n",
              "      fill: #FFFFFF;\n",
              "    }\n",
              "  </style>\n",
              "\n",
              "      <script>\n",
              "        const buttonEl =\n",
              "          document.querySelector('#df-2b4e418b-7d5c-4a9c-a825-638575f2b871 button.colab-df-convert');\n",
              "        buttonEl.style.display =\n",
              "          google.colab.kernel.accessAllowed ? 'block' : 'none';\n",
              "\n",
              "        async function convertToInteractive(key) {\n",
              "          const element = document.querySelector('#df-2b4e418b-7d5c-4a9c-a825-638575f2b871');\n",
              "          const dataTable =\n",
              "            await google.colab.kernel.invokeFunction('convertToInteractive',\n",
              "                                                     [key], {});\n",
              "          if (!dataTable) return;\n",
              "\n",
              "          const docLinkHtml = 'Like what you see? Visit the ' +\n",
              "            '<a target=\"_blank\" href=https://colab.research.google.com/notebooks/data_table.ipynb>data table notebook</a>'\n",
              "            + ' to learn more about interactive tables.';\n",
              "          element.innerHTML = '';\n",
              "          dataTable['output_type'] = 'display_data';\n",
              "          await google.colab.output.renderOutput(dataTable, element);\n",
              "          const docLink = document.createElement('div');\n",
              "          docLink.innerHTML = docLinkHtml;\n",
              "          element.appendChild(docLink);\n",
              "        }\n",
              "      </script>\n",
              "    </div>\n",
              "  </div>\n",
              "  "
            ],
            "text/plain": [
              "   Document_No  ...                                                                                                 Text\n",
              "0            0  ...     Under Income Tax, all medical related deductions to be clubbed with a much higher overall limit.\n",
              "1            1  ...  Rental deduction and deduction towards own housing for self-occupation should be clubbed and giv...\n",
              "2            2  ...             House Rent Income and interest expense to be treated separately in the existing section.\n",
              "3            3  ...  The deductions and exemptions related to Housing for Individuals are spread across many sections...\n",
              "4            4  ...  Salaried people with an allowance \"named\" House Rent Allowance get an exemption under Section 10...\n",
              "5            5  ...        Others who do not get a House Rent Allowance get a deduction under Section 80GG for the same.\n",
              "6            6  ...  Those who buy or build a house or repay housing loan principal get a deduction under section 80C...\n",
              "7            7  ...  (There is another section on affordable housing but that is specific to first time house owners ...\n",
              "8            8  ...                                        Interest paid on housing loan is deductible under Section 24.\n",
              "9            9  ...  All deductions related to self-occupied housing - either owned or rented - should ideally be clu...\n",
              "\n",
              "[10 rows x 5 columns]"
            ]
          },
          "metadata": {},
          "execution_count": 55
        }
      ],
      "source": [
        "def format_topics_sentences(ldamodel=None, corpus=corpus, texts=data):\n",
        "    # Init output\n",
        "    sent_topics_df = pd.DataFrame()\n",
        "\n",
        "    # Get main topic in each document\n",
        "    for i, row_list in enumerate(ldamodel[corpus]):\n",
        "        row = row_list[0] if ldamodel.per_word_topics else row_list            \n",
        "        # print(row)\n",
        "        row = sorted(row, key=lambda x: (x[1]), reverse=True)\n",
        "        # Get the Dominant topic, Perc Contribution and Keywords for each document\n",
        "        for j, (topic_num, prop_topic) in enumerate(row):\n",
        "            if j == 0:  # => dominant topic\n",
        "                wp = ldamodel.show_topic(topic_num)\n",
        "                topic_keywords = \", \".join([word for word, prop in wp])\n",
        "                sent_topics_df = sent_topics_df.append(pd.Series([int(topic_num), round(prop_topic,4), topic_keywords]), ignore_index=True)\n",
        "            else:\n",
        "                break\n",
        "    sent_topics_df.columns = ['Dominant_Topic', 'Perc_Contribution', 'Topic_Keywords']\n",
        "\n",
        "    # Add original text to the end of the output\n",
        "    contents = pd.Series(texts)\n",
        "    sent_topics_df = pd.concat([sent_topics_df, contents], axis=1)\n",
        "    return(sent_topics_df)\n",
        "\n",
        "\n",
        "df_topic_sents_keywords = format_topics_sentences(ldamodel=lda, corpus=corpus, texts=df_reviews.title)\n",
        "\n",
        "# Format\n",
        "df_dominant_topic = df_topic_sents_keywords.reset_index()\n",
        "df_dominant_topic.columns = ['Document_No', 'Dominant_Topic', 'Topic_Perc_Contrib', 'Keywords', 'Text']\n",
        "df_dominant_topic.head(10)"
      ]
    },
    {
      "cell_type": "code",
      "execution_count": null,
      "id": "e7a53caf",
      "metadata": {
        "colab": {
          "base_uri": "https://localhost:8080/",
          "height": 222
        },
        "id": "e7a53caf",
        "outputId": "4c8937b0-d15c-41fc-92bd-aaa1aab03e34"
      },
      "outputs": [
        {
          "output_type": "execute_result",
          "data": {
            "text/html": [
              "\n",
              "  <div id=\"df-e741ebea-de65-4cb0-9764-2cdadc718aa3\">\n",
              "    <div class=\"colab-df-container\">\n",
              "      <div>\n",
              "<style scoped>\n",
              "    .dataframe tbody tr th:only-of-type {\n",
              "        vertical-align: middle;\n",
              "    }\n",
              "\n",
              "    .dataframe tbody tr th {\n",
              "        vertical-align: top;\n",
              "    }\n",
              "\n",
              "    .dataframe thead th {\n",
              "        text-align: right;\n",
              "    }\n",
              "</style>\n",
              "<table border=\"1\" class=\"dataframe\">\n",
              "  <thead>\n",
              "    <tr style=\"text-align: right;\">\n",
              "      <th></th>\n",
              "      <th>Topic_Num</th>\n",
              "      <th>Topic_Perc_Contrib</th>\n",
              "      <th>Keywords</th>\n",
              "      <th>Representative Text</th>\n",
              "    </tr>\n",
              "  </thead>\n",
              "  <tbody>\n",
              "    <tr>\n",
              "      <th>0</th>\n",
              "      <td>0.0</td>\n",
              "      <td>0.9710</td>\n",
              "      <td>fund, work, cost, train, sport, home, gst, company, fee, water</td>\n",
              "      <td>when I mean balanced I mean the capital must be utilized in infrastructure,smart cities, job sec...</td>\n",
              "    </tr>\n",
              "    <tr>\n",
              "      <th>1</th>\n",
              "      <td>1.0</td>\n",
              "      <td>0.9788</td>\n",
              "      <td>interest, limit, amount, country, job, bank, money, scheme, citizens, help</td>\n",
              "      <td>mananiya madam aaj ki mehgai ke hisab se income with out tax ki limit kafi kam he pichhali sal k...</td>\n",
              "    </tr>\n",
              "    <tr>\n",
              "      <th>2</th>\n",
              "      <td>2.0</td>\n",
              "      <td>0.9669</td>\n",
              "      <td>education, gst, sector, state, health, money, products, bank, price, help</td>\n",
              "      <td>Please Capture 80% property, Money, Gold,Silver, Land of All Tempels,MANDIR, MASHJID, GURUDWARA,...</td>\n",
              "    </tr>\n",
              "  </tbody>\n",
              "</table>\n",
              "</div>\n",
              "      <button class=\"colab-df-convert\" onclick=\"convertToInteractive('df-e741ebea-de65-4cb0-9764-2cdadc718aa3')\"\n",
              "              title=\"Convert this dataframe to an interactive table.\"\n",
              "              style=\"display:none;\">\n",
              "        \n",
              "  <svg xmlns=\"http://www.w3.org/2000/svg\" height=\"24px\"viewBox=\"0 0 24 24\"\n",
              "       width=\"24px\">\n",
              "    <path d=\"M0 0h24v24H0V0z\" fill=\"none\"/>\n",
              "    <path d=\"M18.56 5.44l.94 2.06.94-2.06 2.06-.94-2.06-.94-.94-2.06-.94 2.06-2.06.94zm-11 1L8.5 8.5l.94-2.06 2.06-.94-2.06-.94L8.5 2.5l-.94 2.06-2.06.94zm10 10l.94 2.06.94-2.06 2.06-.94-2.06-.94-.94-2.06-.94 2.06-2.06.94z\"/><path d=\"M17.41 7.96l-1.37-1.37c-.4-.4-.92-.59-1.43-.59-.52 0-1.04.2-1.43.59L10.3 9.45l-7.72 7.72c-.78.78-.78 2.05 0 2.83L4 21.41c.39.39.9.59 1.41.59.51 0 1.02-.2 1.41-.59l7.78-7.78 2.81-2.81c.8-.78.8-2.07 0-2.86zM5.41 20L4 18.59l7.72-7.72 1.47 1.35L5.41 20z\"/>\n",
              "  </svg>\n",
              "      </button>\n",
              "      \n",
              "  <style>\n",
              "    .colab-df-container {\n",
              "      display:flex;\n",
              "      flex-wrap:wrap;\n",
              "      gap: 12px;\n",
              "    }\n",
              "\n",
              "    .colab-df-convert {\n",
              "      background-color: #E8F0FE;\n",
              "      border: none;\n",
              "      border-radius: 50%;\n",
              "      cursor: pointer;\n",
              "      display: none;\n",
              "      fill: #1967D2;\n",
              "      height: 32px;\n",
              "      padding: 0 0 0 0;\n",
              "      width: 32px;\n",
              "    }\n",
              "\n",
              "    .colab-df-convert:hover {\n",
              "      background-color: #E2EBFA;\n",
              "      box-shadow: 0px 1px 2px rgba(60, 64, 67, 0.3), 0px 1px 3px 1px rgba(60, 64, 67, 0.15);\n",
              "      fill: #174EA6;\n",
              "    }\n",
              "\n",
              "    [theme=dark] .colab-df-convert {\n",
              "      background-color: #3B4455;\n",
              "      fill: #D2E3FC;\n",
              "    }\n",
              "\n",
              "    [theme=dark] .colab-df-convert:hover {\n",
              "      background-color: #434B5C;\n",
              "      box-shadow: 0px 1px 3px 1px rgba(0, 0, 0, 0.15);\n",
              "      filter: drop-shadow(0px 1px 2px rgba(0, 0, 0, 0.3));\n",
              "      fill: #FFFFFF;\n",
              "    }\n",
              "  </style>\n",
              "\n",
              "      <script>\n",
              "        const buttonEl =\n",
              "          document.querySelector('#df-e741ebea-de65-4cb0-9764-2cdadc718aa3 button.colab-df-convert');\n",
              "        buttonEl.style.display =\n",
              "          google.colab.kernel.accessAllowed ? 'block' : 'none';\n",
              "\n",
              "        async function convertToInteractive(key) {\n",
              "          const element = document.querySelector('#df-e741ebea-de65-4cb0-9764-2cdadc718aa3');\n",
              "          const dataTable =\n",
              "            await google.colab.kernel.invokeFunction('convertToInteractive',\n",
              "                                                     [key], {});\n",
              "          if (!dataTable) return;\n",
              "\n",
              "          const docLinkHtml = 'Like what you see? Visit the ' +\n",
              "            '<a target=\"_blank\" href=https://colab.research.google.com/notebooks/data_table.ipynb>data table notebook</a>'\n",
              "            + ' to learn more about interactive tables.';\n",
              "          element.innerHTML = '';\n",
              "          dataTable['output_type'] = 'display_data';\n",
              "          await google.colab.output.renderOutput(dataTable, element);\n",
              "          const docLink = document.createElement('div');\n",
              "          docLink.innerHTML = docLinkHtml;\n",
              "          element.appendChild(docLink);\n",
              "        }\n",
              "      </script>\n",
              "    </div>\n",
              "  </div>\n",
              "  "
            ],
            "text/plain": [
              "   Topic_Num  ...                                                                                  Representative Text\n",
              "0        0.0  ...  when I mean balanced I mean the capital must be utilized in infrastructure,smart cities, job sec...\n",
              "1        1.0  ...  mananiya madam aaj ki mehgai ke hisab se income with out tax ki limit kafi kam he pichhali sal k...\n",
              "2        2.0  ...  Please Capture 80% property, Money, Gold,Silver, Land of All Tempels,MANDIR, MASHJID, GURUDWARA,...\n",
              "\n",
              "[3 rows x 4 columns]"
            ]
          },
          "metadata": {},
          "execution_count": 56
        }
      ],
      "source": [
        "# Display setting to show more characters in column\n",
        "pd.options.display.max_colwidth = 100\n",
        "\n",
        "sent_topics_sorteddf_mallet = pd.DataFrame()\n",
        "sent_topics_outdf_grpd = df_topic_sents_keywords.groupby('Dominant_Topic')\n",
        "\n",
        "for i, grp in sent_topics_outdf_grpd:\n",
        "    sent_topics_sorteddf_mallet = pd.concat([sent_topics_sorteddf_mallet, \n",
        "                                             grp.sort_values(['Perc_Contribution'], ascending=False).head(1)], \n",
        "                                            axis=0)\n",
        "\n",
        "# Reset Index    \n",
        "sent_topics_sorteddf_mallet.reset_index(drop=True, inplace=True)\n",
        "\n",
        "# Format\n",
        "sent_topics_sorteddf_mallet.columns = ['Topic_Num', \"Topic_Perc_Contrib\", \"Keywords\", \"Representative Text\"]\n",
        "\n",
        "# Show\n",
        "sent_topics_sorteddf_mallet.head(10)"
      ]
    },
    {
      "cell_type": "code",
      "execution_count": null,
      "id": "6ac38eb3",
      "metadata": {
        "id": "6ac38eb3"
      },
      "outputs": [],
      "source": [
        "# import matplotlib.pyplot as plt\n",
        "# import numpy as np\n",
        "# doc_lens = [len(d) for d in df_dominant_topic.Text]\n",
        "\n",
        "# # Plot\n",
        "# plt.figure(figsize=(16,7), dpi=160)\n",
        "# plt.hist(doc_lens, bins = 1000, color='navy')\n",
        "# plt.text(750, 100, \"Mean   : \" + str(round(np.mean(doc_lens))))\n",
        "# plt.text(750,  90, \"Median : \" + str(round(np.median(doc_lens))))\n",
        "# plt.text(750,  80, \"Stdev   : \" + str(round(np.std(doc_lens))))\n",
        "# plt.text(750,  70, \"1%ile    : \" + str(round(np.quantile(doc_lens, q=0.01))))\n",
        "# plt.text(750,  60, \"99%ile  : \" + str(round(np.quantile(doc_lens, q=0.99))))\n",
        "\n",
        "# plt.gca().set(xlim=(0, 1000), ylabel='Number of Documents', xlabel='Document Word Count')\n",
        "# plt.tick_params(size=16)\n",
        "# plt.xticks(np.linspace(0,1000,9))\n",
        "# plt.title('Distribution of Document Word Counts', fontdict=dict(size=22))\n",
        "# plt.show()"
      ]
    },
    {
      "cell_type": "code",
      "execution_count": null,
      "id": "15f1b41f",
      "metadata": {
        "id": "15f1b41f"
      },
      "outputs": [],
      "source": [
        "# import seaborn as sns\n",
        "# import matplotlib.colors as mcolors\n",
        "# cols = [color for name, color in mcolors.TABLEAU_COLORS.items()]  # more colors: 'mcolors.XKCD_COLORS'\n",
        "\n",
        "# fig, axes = plt.subplots(2,2,figsize=(16,14), dpi=160, sharex=True, sharey=True)\n",
        "\n",
        "# for i, ax in enumerate(axes.flatten()):    \n",
        "#     df_dominant_topic_sub = df_dominant_topic.loc[df_dominant_topic.Dominant_Topic == i, :]\n",
        "#     doc_lens = [len(d) for d in df_dominant_topic_sub.Text]\n",
        "#     ax.hist(doc_lens, bins = 1000, color=cols[i])\n",
        "#     ax.tick_params(axis='y', labelcolor=cols[i], color=cols[i])\n",
        "#     sns.kdeplot(doc_lens, color=\"black\", shade=False, ax=ax.twinx())\n",
        "#     ax.set(xlim=(0, 1000), xlabel='Document Word Count')\n",
        "#     ax.set_ylabel('Number of Documents', color=cols[i])\n",
        "#     ax.set_title('Topic: '+str(i), fontdict=dict(size=16, color=cols[i]))\n",
        "\n",
        "# fig.tight_layout()\n",
        "# fig.subplots_adjust(top=0.90)\n",
        "# plt.xticks(np.linspace(0,1000,9))\n",
        "# fig.suptitle('Distribution of Document Word Counts by Dominant Topic', fontsize=22)\n",
        "# plt.show()"
      ]
    },
    {
      "cell_type": "code",
      "execution_count": null,
      "id": "509ee594",
      "metadata": {
        "colab": {
          "base_uri": "https://localhost:8080/"
        },
        "id": "509ee594",
        "outputId": "b28ad3b0-1be8-4a56-d6d6-0ceab0d4c668"
      },
      "outputs": [
        {
          "output_type": "stream",
          "name": "stdout",
          "text": [
            "Requirement already satisfied: wordcloud in /usr/local/lib/python3.7/dist-packages (1.5.0)\n",
            "Requirement already satisfied: numpy>=1.6.1 in /usr/local/lib/python3.7/dist-packages (from wordcloud) (1.21.5)\n",
            "Requirement already satisfied: pillow in /usr/local/lib/python3.7/dist-packages (from wordcloud) (7.1.2)\n"
          ]
        }
      ],
      "source": [
        "!pip install wordcloud"
      ]
    },
    {
      "cell_type": "code",
      "execution_count": null,
      "id": "336856f4",
      "metadata": {
        "colab": {
          "base_uri": "https://localhost:8080/",
          "height": 201
        },
        "id": "336856f4",
        "outputId": "38739db3-9db0-4695-f0c0-ddcc9a4382b1"
      },
      "outputs": [
        {
          "output_type": "stream",
          "name": "stdout",
          "text": [
            "[(0, [('fund', 0.010653501), ('work', 0.0100499755), ('cost', 0.0058667264), ('train', 0.0052282056), ('sport', 0.0046868566), ('home', 0.0044177556), ('gst', 0.0043812403), ('company', 0.004213528), ('fee', 0.004081802), ('water', 0.003998225)]), (1, [('interest', 0.010797832), ('limit', 0.009739974), ('amount', 0.008083713), ('country', 0.0075965193), ('job', 0.0075614946), ('bank', 0.0074996524), ('money', 0.007429429), ('scheme', 0.007124226), ('citizens', 0.00664183), ('help', 0.0066255135)]), (2, [('education', 0.013560144), ('gst', 0.009651642), ('sector', 0.007830192), ('state', 0.0074444986), ('health', 0.0068680556), ('money', 0.006612193), ('products', 0.006527467), ('bank', 0.005813437), ('price', 0.005770967), ('help', 0.0051614936)])]\n"
          ]
        },
        {
          "output_type": "display_data",
          "data": {
            "image/png": "[encoded data removed]",
            "text/plain": [
              "<Figure size 720x720 with 3 Axes>"
            ]
          },
          "metadata": {
            "needs_background": "light"
          }
        }
      ],
      "source": [
        "# 1. Wordcloud of Top N words in each topic\n",
        "from matplotlib import pyplot as plt\n",
        "from wordcloud import WordCloud, STOPWORDS\n",
        "import matplotlib.colors as mcolors\n",
        "\n",
        "cols = [color for name, color in mcolors.TABLEAU_COLORS.items()]  # more colors: 'mcolors.XKCD_COLORS'\n",
        "\n",
        "# cloud = WordCloud(stopwords=stopwords_ls,\n",
        "#                   background_color='white',\n",
        "#                   width=2500,\n",
        "#                   height=1800,\n",
        "#                   max_words=10,\n",
        "#                   colormap='tab10',\n",
        "#                   color_func=lambda *args, **kwargs: cols[i],\n",
        "#                   prefer_horizontal=1.0)\n",
        "cloud = WordCloud(background_color=\"white\", max_words=10, contour_width=3, contour_color='steelblue')\n",
        "\n",
        "topics = lda.show_topics(formatted=False)\n",
        "print(topics)\n",
        "fig, axes = plt.subplots(1, 3, figsize=(10,10), sharex=True, sharey=True)\n",
        "\n",
        "for i, ax in enumerate(axes.flatten()):\n",
        "    fig.add_subplot(ax)\n",
        "    topic_words = dict(topics[i][1])\n",
        "    cloud.generate_from_frequencies(topic_words, max_font_size=300)\n",
        "    plt.gca().imshow(cloud)\n",
        "    plt.gca().set_title('Topic ' + str(i), fontdict=dict(size=16))\n",
        "    plt.gca().axis('off')\n",
        "\n",
        "\n",
        "plt.subplots_adjust(wspace=0, hspace=0)\n",
        "plt.axis('off')\n",
        "plt.margins(x=0, y=0)\n",
        "plt.tight_layout()\n",
        "plt.show()"
      ]
    },
    {
      "cell_type": "code",
      "source": [
        "df_reviews['topic'] = df_dominant_topic['Dominant_Topic']"
      ],
      "metadata": {
        "id": "szv1V4Qp5n1c"
      },
      "id": "szv1V4Qp5n1c",
      "execution_count": null,
      "outputs": []
    },
    {
      "cell_type": "code",
      "execution_count": null,
      "id": "efc99d4f",
      "metadata": {
        "id": "efc99d4f",
        "colab": {
          "base_uri": "https://localhost:8080/",
          "height": 459
        },
        "outputId": "e9dfde9e-7876-481d-921d-5de18e5c065c"
      },
      "outputs": [
        {
          "output_type": "execute_result",
          "data": {
            "text/html": [
              "\n",
              "  <div id=\"df-5ee28f81-45d6-460e-87e5-5cabae84b811\">\n",
              "    <div class=\"colab-df-container\">\n",
              "      <div>\n",
              "<style scoped>\n",
              "    .dataframe tbody tr th:only-of-type {\n",
              "        vertical-align: middle;\n",
              "    }\n",
              "\n",
              "    .dataframe tbody tr th {\n",
              "        vertical-align: top;\n",
              "    }\n",
              "\n",
              "    .dataframe thead th {\n",
              "        text-align: right;\n",
              "    }\n",
              "</style>\n",
              "<table border=\"1\" class=\"dataframe\">\n",
              "  <thead>\n",
              "    <tr style=\"text-align: right;\">\n",
              "      <th></th>\n",
              "      <th>title</th>\n",
              "      <th>lang</th>\n",
              "      <th>preprocessed</th>\n",
              "      <th>review_ls</th>\n",
              "      <th>cleaned_tokens</th>\n",
              "      <th>cleaned_sentences</th>\n",
              "      <th>topic</th>\n",
              "    </tr>\n",
              "  </thead>\n",
              "  <tbody>\n",
              "    <tr>\n",
              "      <th>0</th>\n",
              "      <td>Under Income Tax, all medical related deductions to be clubbed with a much higher overall limit.</td>\n",
              "      <td>ENGLISH</td>\n",
              "      <td>income tax medical relate deductions club much higher overall limit</td>\n",
              "      <td>[income, tax, medical, relate, deductions, club, much, higher, overall, limit]</td>\n",
              "      <td>[medical, relate, deductions, club, much, higher, overall, limit]</td>\n",
              "      <td>medical relate deductions club much higher overall limit</td>\n",
              "      <td>1.0</td>\n",
              "    </tr>\n",
              "    <tr>\n",
              "      <th>1</th>\n",
              "      <td>Rental deduction and deduction towards own housing for self-occupation should be clubbed and giv...</td>\n",
              "      <td>ENGLISH</td>\n",
              "      <td>rental deduction deduction towards house selfoccupation club give higher limit</td>\n",
              "      <td>[rental, deduction, deduction, towards, house, selfoccupation, club, give, higher, limit]</td>\n",
              "      <td>[rental, deduction, deduction, towards, house, selfoccupation, club, higher, limit]</td>\n",
              "      <td>rental deduction deduction towards house selfoccupation club higher limit</td>\n",
              "      <td>1.0</td>\n",
              "    </tr>\n",
              "    <tr>\n",
              "      <th>2</th>\n",
              "      <td>House Rent Income and interest expense to be treated separately in the existing section.</td>\n",
              "      <td>ENGLISH</td>\n",
              "      <td>house rent income interest expense treat separately exist section</td>\n",
              "      <td>[house, rent, income, interest, expense, treat, separately, exist, section]</td>\n",
              "      <td>[house, rent, interest, expense, treat, separately, exist, section]</td>\n",
              "      <td>house rent interest expense treat separately exist section</td>\n",
              "      <td>1.0</td>\n",
              "    </tr>\n",
              "    <tr>\n",
              "      <th>3</th>\n",
              "      <td>The deductions and exemptions related to Housing for Individuals are spread across many sections...</td>\n",
              "      <td>ENGLISH</td>\n",
              "      <td>deductions exemptions relate house individuals spread across many section vary limit</td>\n",
              "      <td>[deductions, exemptions, relate, house, individuals, spread, across, many, section, vary, limit]</td>\n",
              "      <td>[deductions, exemptions, relate, house, individuals, spread, across, many, section, vary, limit]</td>\n",
              "      <td>deductions exemptions relate house individuals spread across many section vary limit</td>\n",
              "      <td>1.0</td>\n",
              "    </tr>\n",
              "    <tr>\n",
              "      <th>4</th>\n",
              "      <td>Salaried people with an allowance \"named\" House Rent Allowance get an exemption under Section 10...</td>\n",
              "      <td>ENGLISH</td>\n",
              "      <td>salaried people allowance name house rent allowance get exemption section regard rent expense pay</td>\n",
              "      <td>[salaried, people, allowance, name, house, rent, allowance, get, exemption, section, regard, ren...</td>\n",
              "      <td>[salaried, allowance, name, house, rent, allowance, exemption, section, regard, rent, expense]</td>\n",
              "      <td>salaried allowance name house rent allowance exemption section regard rent expense</td>\n",
              "      <td>0.0</td>\n",
              "    </tr>\n",
              "  </tbody>\n",
              "</table>\n",
              "</div>\n",
              "      <button class=\"colab-df-convert\" onclick=\"convertToInteractive('df-5ee28f81-45d6-460e-87e5-5cabae84b811')\"\n",
              "              title=\"Convert this dataframe to an interactive table.\"\n",
              "              style=\"display:none;\">\n",
              "        \n",
              "  <svg xmlns=\"http://www.w3.org/2000/svg\" height=\"24px\"viewBox=\"0 0 24 24\"\n",
              "       width=\"24px\">\n",
              "    <path d=\"M0 0h24v24H0V0z\" fill=\"none\"/>\n",
              "    <path d=\"M18.56 5.44l.94 2.06.94-2.06 2.06-.94-2.06-.94-.94-2.06-.94 2.06-2.06.94zm-11 1L8.5 8.5l.94-2.06 2.06-.94-2.06-.94L8.5 2.5l-.94 2.06-2.06.94zm10 10l.94 2.06.94-2.06 2.06-.94-2.06-.94-.94-2.06-.94 2.06-2.06.94z\"/><path d=\"M17.41 7.96l-1.37-1.37c-.4-.4-.92-.59-1.43-.59-.52 0-1.04.2-1.43.59L10.3 9.45l-7.72 7.72c-.78.78-.78 2.05 0 2.83L4 21.41c.39.39.9.59 1.41.59.51 0 1.02-.2 1.41-.59l7.78-7.78 2.81-2.81c.8-.78.8-2.07 0-2.86zM5.41 20L4 18.59l7.72-7.72 1.47 1.35L5.41 20z\"/>\n",
              "  </svg>\n",
              "      </button>\n",
              "      \n",
              "  <style>\n",
              "    .colab-df-container {\n",
              "      display:flex;\n",
              "      flex-wrap:wrap;\n",
              "      gap: 12px;\n",
              "    }\n",
              "\n",
              "    .colab-df-convert {\n",
              "      background-color: #E8F0FE;\n",
              "      border: none;\n",
              "      border-radius: 50%;\n",
              "      cursor: pointer;\n",
              "      display: none;\n",
              "      fill: #1967D2;\n",
              "      height: 32px;\n",
              "      padding: 0 0 0 0;\n",
              "      width: 32px;\n",
              "    }\n",
              "\n",
              "    .colab-df-convert:hover {\n",
              "      background-color: #E2EBFA;\n",
              "      box-shadow: 0px 1px 2px rgba(60, 64, 67, 0.3), 0px 1px 3px 1px rgba(60, 64, 67, 0.15);\n",
              "      fill: #174EA6;\n",
              "    }\n",
              "\n",
              "    [theme=dark] .colab-df-convert {\n",
              "      background-color: #3B4455;\n",
              "      fill: #D2E3FC;\n",
              "    }\n",
              "\n",
              "    [theme=dark] .colab-df-convert:hover {\n",
              "      background-color: #434B5C;\n",
              "      box-shadow: 0px 1px 3px 1px rgba(0, 0, 0, 0.15);\n",
              "      filter: drop-shadow(0px 1px 2px rgba(0, 0, 0, 0.3));\n",
              "      fill: #FFFFFF;\n",
              "    }\n",
              "  </style>\n",
              "\n",
              "      <script>\n",
              "        const buttonEl =\n",
              "          document.querySelector('#df-5ee28f81-45d6-460e-87e5-5cabae84b811 button.colab-df-convert');\n",
              "        buttonEl.style.display =\n",
              "          google.colab.kernel.accessAllowed ? 'block' : 'none';\n",
              "\n",
              "        async function convertToInteractive(key) {\n",
              "          const element = document.querySelector('#df-5ee28f81-45d6-460e-87e5-5cabae84b811');\n",
              "          const dataTable =\n",
              "            await google.colab.kernel.invokeFunction('convertToInteractive',\n",
              "                                                     [key], {});\n",
              "          if (!dataTable) return;\n",
              "\n",
              "          const docLinkHtml = 'Like what you see? Visit the ' +\n",
              "            '<a target=\"_blank\" href=https://colab.research.google.com/notebooks/data_table.ipynb>data table notebook</a>'\n",
              "            + ' to learn more about interactive tables.';\n",
              "          element.innerHTML = '';\n",
              "          dataTable['output_type'] = 'display_data';\n",
              "          await google.colab.output.renderOutput(dataTable, element);\n",
              "          const docLink = document.createElement('div');\n",
              "          docLink.innerHTML = docLinkHtml;\n",
              "          element.appendChild(docLink);\n",
              "        }\n",
              "      </script>\n",
              "    </div>\n",
              "  </div>\n",
              "  "
            ],
            "text/plain": [
              "                                                                                                 title  ... topic\n",
              "0     Under Income Tax, all medical related deductions to be clubbed with a much higher overall limit.  ...   1.0\n",
              "1  Rental deduction and deduction towards own housing for self-occupation should be clubbed and giv...  ...   1.0\n",
              "2             House Rent Income and interest expense to be treated separately in the existing section.  ...   1.0\n",
              "3  The deductions and exemptions related to Housing for Individuals are spread across many sections...  ...   1.0\n",
              "4  Salaried people with an allowance \"named\" House Rent Allowance get an exemption under Section 10...  ...   0.0\n",
              "\n",
              "[5 rows x 7 columns]"
            ]
          },
          "metadata": {},
          "execution_count": 62
        }
      ],
      "source": [
        "df_reviews = df_reviews.dropna()\n",
        "df_reviews = df_reviews.reset_index(drop=True)\n",
        "df_reviews.head()"
      ]
    },
    {
      "cell_type": "code",
      "source": [
        "gk = df_reviews.groupby('topic')"
      ],
      "metadata": {
        "id": "7ui-_L2TM7XR"
      },
      "execution_count": null,
      "outputs": [],
      "id": "7ui-_L2TM7XR"
    },
    {
      "cell_type": "code",
      "source": [
        "l=df_reviews['topic'].unique()"
      ],
      "metadata": {
        "id": "YphPAHFv3bPz"
      },
      "execution_count": null,
      "outputs": [],
      "id": "YphPAHFv3bPz"
    },
    {
      "cell_type": "code",
      "source": [
        "l"
      ],
      "metadata": {
        "colab": {
          "base_uri": "https://localhost:8080/"
        },
        "id": "jUDd0JpG-nWE",
        "outputId": "4756e522-daa9-4467-bc71-8876c164f8b8"
      },
      "id": "jUDd0JpG-nWE",
      "execution_count": null,
      "outputs": [
        {
          "output_type": "execute_result",
          "data": {
            "text/plain": [
              "array([0., 3., 1., 2.])"
            ]
          },
          "metadata": {},
          "execution_count": 50
        }
      ]
    },
    {
      "cell_type": "code",
      "source": [
        "df_test=gk.get_group(l[0])\n",
        "df_test = df_test.reset_index(drop=True)"
      ],
      "metadata": {
        "id": "WCXJLu-U3hrj"
      },
      "execution_count": null,
      "outputs": [],
      "id": "WCXJLu-U3hrj"
    },
    {
      "cell_type": "code",
      "source": [
        "df_test"
      ],
      "metadata": {
        "colab": {
          "base_uri": "https://localhost:8080/",
          "height": 763
        },
        "id": "uVZLyinoAaHj",
        "outputId": "470293de-776c-4b20-884a-e670fa4b4d04"
      },
      "id": "uVZLyinoAaHj",
      "execution_count": null,
      "outputs": [
        {
          "output_type": "execute_result",
          "data": {
            "text/html": [
              "\n",
              "  <div id=\"df-32b24a55-98f5-49e0-b0f1-04360ddc7ac4\">\n",
              "    <div class=\"colab-df-container\">\n",
              "      <div>\n",
              "<style scoped>\n",
              "    .dataframe tbody tr th:only-of-type {\n",
              "        vertical-align: middle;\n",
              "    }\n",
              "\n",
              "    .dataframe tbody tr th {\n",
              "        vertical-align: top;\n",
              "    }\n",
              "\n",
              "    .dataframe thead th {\n",
              "        text-align: right;\n",
              "    }\n",
              "</style>\n",
              "<table border=\"1\" class=\"dataframe\">\n",
              "  <thead>\n",
              "    <tr style=\"text-align: right;\">\n",
              "      <th></th>\n",
              "      <th>title</th>\n",
              "      <th>lang</th>\n",
              "      <th>preprocessed</th>\n",
              "      <th>review_ls</th>\n",
              "      <th>cleaned_tokens</th>\n",
              "      <th>cleaned_sentences</th>\n",
              "      <th>topic</th>\n",
              "    </tr>\n",
              "  </thead>\n",
              "  <tbody>\n",
              "    <tr>\n",
              "      <th>0</th>\n",
              "      <td>Under Income Tax, all medical related deductions to be clubbed with a much higher overall limit.</td>\n",
              "      <td>ENGLISH</td>\n",
              "      <td>income tax medical relate deductions club much higher overall limit</td>\n",
              "      <td>[income, tax, medical, relate, deductions, club, much, higher, overall, limit]</td>\n",
              "      <td>[medical, relate, deductions, club, much, higher, overall, limit]</td>\n",
              "      <td>medical relate deductions club much higher overall limit</td>\n",
              "      <td>0.0</td>\n",
              "    </tr>\n",
              "    <tr>\n",
              "      <th>1</th>\n",
              "      <td>House Rent Income and interest expense to be treated separately in the existing section.</td>\n",
              "      <td>ENGLISH</td>\n",
              "      <td>house rent income interest expense treat separately exist section</td>\n",
              "      <td>[house, rent, income, interest, expense, treat, separately, exist, section]</td>\n",
              "      <td>[house, rent, interest, expense, treat, separately, exist, section]</td>\n",
              "      <td>house rent interest expense treat separately exist section</td>\n",
              "      <td>0.0</td>\n",
              "    </tr>\n",
              "    <tr>\n",
              "      <th>2</th>\n",
              "      <td>The deductions and exemptions related to Housing for Individuals are spread across many sections...</td>\n",
              "      <td>ENGLISH</td>\n",
              "      <td>deductions exemptions relate house individuals spread across many section vary limit</td>\n",
              "      <td>[deductions, exemptions, relate, house, individuals, spread, across, many, section, vary, limit]</td>\n",
              "      <td>[deductions, exemptions, relate, house, individuals, spread, across, many, section, vary, limit]</td>\n",
              "      <td>deductions exemptions relate house individuals spread across many section vary limit</td>\n",
              "      <td>0.0</td>\n",
              "    </tr>\n",
              "    <tr>\n",
              "      <th>3</th>\n",
              "      <td>All deductions related to self-occupied housing - either owned or rented - should ideally be clu...</td>\n",
              "      <td>ENGLISH</td>\n",
              "      <td>deductions relate selfoccupied housingeither own rentedshould ideally club single section higher...</td>\n",
              "      <td>[deductions, relate, selfoccupied, housingeither, own, rentedshould, ideally, club, single, sect...</td>\n",
              "      <td>[deductions, relate, selfoccupied, housingeither, rentedshould, ideally, club, single, section, ...</td>\n",
              "      <td>deductions relate selfoccupied housingeither rentedshould ideally club single section higher lim...</td>\n",
              "      <td>0.0</td>\n",
              "    </tr>\n",
              "    <tr>\n",
              "      <th>4</th>\n",
              "      <td>Increase education spending</td>\n",
              "      <td>ENGLISH</td>\n",
              "      <td>increase education spend</td>\n",
              "      <td>[increase, education, spend]</td>\n",
              "      <td>[education, spend]</td>\n",
              "      <td>education spend</td>\n",
              "      <td>0.0</td>\n",
              "    </tr>\n",
              "    <tr>\n",
              "      <th>...</th>\n",
              "      <td>...</td>\n",
              "      <td>...</td>\n",
              "      <td>...</td>\n",
              "      <td>...</td>\n",
              "      <td>...</td>\n",
              "      <td>...</td>\n",
              "      <td>...</td>\n",
              "    </tr>\n",
              "    <tr>\n",
              "      <th>735</th>\n",
              "      <td>budget should consider, for employees as whatever they earn pay tax on it.</td>\n",
              "      <td>ENGLISH</td>\n",
              "      <td>budget consider employees whatever earn pay tax</td>\n",
              "      <td>[budget, consider, employees, whatever, earn, pay, tax]</td>\n",
              "      <td>[consider, employees, whatever, earn]</td>\n",
              "      <td>consider employees whatever earn</td>\n",
              "      <td>0.0</td>\n",
              "    </tr>\n",
              "    <tr>\n",
              "      <th>736</th>\n",
              "      <td>Due to rising prices and low band people are not in position to express there feelings.</td>\n",
              "      <td>ENGLISH</td>\n",
              "      <td>due rise price low band people not position express feel</td>\n",
              "      <td>[due, rise, price, low, band, people, not, position, express, feel]</td>\n",
              "      <td>[due, rise, price, low, band, position, express, feel]</td>\n",
              "      <td>due rise price low band position express feel</td>\n",
              "      <td>0.0</td>\n",
              "    </tr>\n",
              "    <tr>\n",
              "      <th>737</th>\n",
              "      <td>I urge government to think over this matter.</td>\n",
              "      <td>ENGLISH</td>\n",
              "      <td>urge government think matter</td>\n",
              "      <td>[urge, government, think, matter]</td>\n",
              "      <td>[urge, matter]</td>\n",
              "      <td>urge matter</td>\n",
              "      <td>0.0</td>\n",
              "    </tr>\n",
              "    <tr>\n",
              "      <th>738</th>\n",
              "      <td>Please ignore this message and need not taken it to be serious.</td>\n",
              "      <td>ENGLISH</td>\n",
              "      <td>please ignore message need not take serious</td>\n",
              "      <td>[please, ignore, message, need, not, take, serious]</td>\n",
              "      <td>[ignore, message, take, serious]</td>\n",
              "      <td>ignore message take serious</td>\n",
              "      <td>0.0</td>\n",
              "    </tr>\n",
              "    <tr>\n",
              "      <th>739</th>\n",
              "      <td>Here thinking of skilled and unskilled labours is also necessary.</td>\n",
              "      <td>ENGLISH</td>\n",
              "      <td>think skilled unskilled labour also necessary</td>\n",
              "      <td>[think, skilled, unskilled, labour, also, necessary]</td>\n",
              "      <td>[skilled, unskilled, labour, necessary]</td>\n",
              "      <td>skilled unskilled labour necessary</td>\n",
              "      <td>0.0</td>\n",
              "    </tr>\n",
              "  </tbody>\n",
              "</table>\n",
              "<p>740 rows × 7 columns</p>\n",
              "</div>\n",
              "      <button class=\"colab-df-convert\" onclick=\"convertToInteractive('df-32b24a55-98f5-49e0-b0f1-04360ddc7ac4')\"\n",
              "              title=\"Convert this dataframe to an interactive table.\"\n",
              "              style=\"display:none;\">\n",
              "        \n",
              "  <svg xmlns=\"http://www.w3.org/2000/svg\" height=\"24px\"viewBox=\"0 0 24 24\"\n",
              "       width=\"24px\">\n",
              "    <path d=\"M0 0h24v24H0V0z\" fill=\"none\"/>\n",
              "    <path d=\"M18.56 5.44l.94 2.06.94-2.06 2.06-.94-2.06-.94-.94-2.06-.94 2.06-2.06.94zm-11 1L8.5 8.5l.94-2.06 2.06-.94-2.06-.94L8.5 2.5l-.94 2.06-2.06.94zm10 10l.94 2.06.94-2.06 2.06-.94-2.06-.94-.94-2.06-.94 2.06-2.06.94z\"/><path d=\"M17.41 7.96l-1.37-1.37c-.4-.4-.92-.59-1.43-.59-.52 0-1.04.2-1.43.59L10.3 9.45l-7.72 7.72c-.78.78-.78 2.05 0 2.83L4 21.41c.39.39.9.59 1.41.59.51 0 1.02-.2 1.41-.59l7.78-7.78 2.81-2.81c.8-.78.8-2.07 0-2.86zM5.41 20L4 18.59l7.72-7.72 1.47 1.35L5.41 20z\"/>\n",
              "  </svg>\n",
              "      </button>\n",
              "      \n",
              "  <style>\n",
              "    .colab-df-container {\n",
              "      display:flex;\n",
              "      flex-wrap:wrap;\n",
              "      gap: 12px;\n",
              "    }\n",
              "\n",
              "    .colab-df-convert {\n",
              "      background-color: #E8F0FE;\n",
              "      border: none;\n",
              "      border-radius: 50%;\n",
              "      cursor: pointer;\n",
              "      display: none;\n",
              "      fill: #1967D2;\n",
              "      height: 32px;\n",
              "      padding: 0 0 0 0;\n",
              "      width: 32px;\n",
              "    }\n",
              "\n",
              "    .colab-df-convert:hover {\n",
              "      background-color: #E2EBFA;\n",
              "      box-shadow: 0px 1px 2px rgba(60, 64, 67, 0.3), 0px 1px 3px 1px rgba(60, 64, 67, 0.15);\n",
              "      fill: #174EA6;\n",
              "    }\n",
              "\n",
              "    [theme=dark] .colab-df-convert {\n",
              "      background-color: #3B4455;\n",
              "      fill: #D2E3FC;\n",
              "    }\n",
              "\n",
              "    [theme=dark] .colab-df-convert:hover {\n",
              "      background-color: #434B5C;\n",
              "      box-shadow: 0px 1px 3px 1px rgba(0, 0, 0, 0.15);\n",
              "      filter: drop-shadow(0px 1px 2px rgba(0, 0, 0, 0.3));\n",
              "      fill: #FFFFFF;\n",
              "    }\n",
              "  </style>\n",
              "\n",
              "      <script>\n",
              "        const buttonEl =\n",
              "          document.querySelector('#df-32b24a55-98f5-49e0-b0f1-04360ddc7ac4 button.colab-df-convert');\n",
              "        buttonEl.style.display =\n",
              "          google.colab.kernel.accessAllowed ? 'block' : 'none';\n",
              "\n",
              "        async function convertToInteractive(key) {\n",
              "          const element = document.querySelector('#df-32b24a55-98f5-49e0-b0f1-04360ddc7ac4');\n",
              "          const dataTable =\n",
              "            await google.colab.kernel.invokeFunction('convertToInteractive',\n",
              "                                                     [key], {});\n",
              "          if (!dataTable) return;\n",
              "\n",
              "          const docLinkHtml = 'Like what you see? Visit the ' +\n",
              "            '<a target=\"_blank\" href=https://colab.research.google.com/notebooks/data_table.ipynb>data table notebook</a>'\n",
              "            + ' to learn more about interactive tables.';\n",
              "          element.innerHTML = '';\n",
              "          dataTable['output_type'] = 'display_data';\n",
              "          await google.colab.output.renderOutput(dataTable, element);\n",
              "          const docLink = document.createElement('div');\n",
              "          docLink.innerHTML = docLinkHtml;\n",
              "          element.appendChild(docLink);\n",
              "        }\n",
              "      </script>\n",
              "    </div>\n",
              "  </div>\n",
              "  "
            ],
            "text/plain": [
              "                                                                                                   title  ... topic\n",
              "0       Under Income Tax, all medical related deductions to be clubbed with a much higher overall limit.  ...   0.0\n",
              "1               House Rent Income and interest expense to be treated separately in the existing section.  ...   0.0\n",
              "2    The deductions and exemptions related to Housing for Individuals are spread across many sections...  ...   0.0\n",
              "3    All deductions related to self-occupied housing - either owned or rented - should ideally be clu...  ...   0.0\n",
              "4                                                                            Increase education spending  ...   0.0\n",
              "..                                                                                                   ...  ...   ...\n",
              "735                           budget should consider, for employees as whatever they earn pay tax on it.  ...   0.0\n",
              "736              Due to rising prices and low band people are not in position to express there feelings.  ...   0.0\n",
              "737                                                         I urge government to think over this matter.  ...   0.0\n",
              "738                                      Please ignore this message and need not taken it to be serious.  ...   0.0\n",
              "739                                    Here thinking of skilled and unskilled labours is also necessary.  ...   0.0\n",
              "\n",
              "[740 rows x 7 columns]"
            ]
          },
          "metadata": {},
          "execution_count": 52
        }
      ]
    },
    {
      "cell_type": "code",
      "source": [
        "df_test.to_csv('/content/drive/MyDrive/Research/Other datasets/topic0.csv')"
      ],
      "metadata": {
        "id": "r6ya4tQPAejn"
      },
      "id": "r6ya4tQPAejn",
      "execution_count": null,
      "outputs": []
    },
    {
      "cell_type": "code",
      "source": [
        ""
      ],
      "metadata": {
        "id": "B9TsPY0dPQZn"
      },
      "id": "B9TsPY0dPQZn",
      "execution_count": null,
      "outputs": []
    }
  ],
  "metadata": {
    "kernelspec": {
      "display_name": "Python 3",
      "language": "python",
      "name": "python3"
    },
    "language_info": {
      "codemirror_mode": {
        "name": "ipython",
        "version": 3
      },
      "file_extension": ".py",
      "mimetype": "text/x-python",
      "name": "python",
      "nbconvert_exporter": "python",
      "pygments_lexer": "ipython3",
      "version": "3.8.8"
    },
    "colab": {
      "name": "topic_analysis.ipynb",
      "provenance": [],
      "collapsed_sections": [],
      "include_colab_link": true
    }
  },
  "nbformat": 4,
  "nbformat_minor": 5
}